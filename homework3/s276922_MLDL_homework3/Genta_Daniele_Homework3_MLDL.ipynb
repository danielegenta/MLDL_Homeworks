{
  "nbformat": 4,
  "nbformat_minor": 0,
  "metadata": {
    "colab": {
      "name": "Genta Daniele_Homework3-MLDL.ipynb",
      "provenance": [],
      "collapsed_sections": []
    },
    "kernelspec": {
      "name": "python3",
      "display_name": "Python 3"
    },
    "accelerator": "GPU",
    "widgets": {
      "application/vnd.jupyter.widget-state+json": {
        "d3c3b6a6f8a6461987b92615e21726ef": {
          "model_module": "@jupyter-widgets/controls",
          "model_name": "HBoxModel",
          "state": {
            "_view_name": "HBoxView",
            "_dom_classes": [],
            "_model_name": "HBoxModel",
            "_view_module": "@jupyter-widgets/controls",
            "_model_module_version": "1.5.0",
            "_view_count": null,
            "_view_module_version": "1.5.0",
            "box_style": "",
            "layout": "IPY_MODEL_5f03a4bea8204211b498b99b870aaf6e",
            "_model_module": "@jupyter-widgets/controls",
            "children": [
              "IPY_MODEL_c6b78f78cf184cbb9eb5edef610a854a",
              "IPY_MODEL_ecfeacb930cc4351a6b987c280acbd5b"
            ]
          }
        },
        "5f03a4bea8204211b498b99b870aaf6e": {
          "model_module": "@jupyter-widgets/base",
          "model_name": "LayoutModel",
          "state": {
            "_view_name": "LayoutView",
            "grid_template_rows": null,
            "right": null,
            "justify_content": null,
            "_view_module": "@jupyter-widgets/base",
            "overflow": null,
            "_model_module_version": "1.2.0",
            "_view_count": null,
            "flex_flow": null,
            "width": null,
            "min_width": null,
            "border": null,
            "align_items": null,
            "bottom": null,
            "_model_module": "@jupyter-widgets/base",
            "top": null,
            "grid_column": null,
            "overflow_y": null,
            "overflow_x": null,
            "grid_auto_flow": null,
            "grid_area": null,
            "grid_template_columns": null,
            "flex": null,
            "_model_name": "LayoutModel",
            "justify_items": null,
            "grid_row": null,
            "max_height": null,
            "align_content": null,
            "visibility": null,
            "align_self": null,
            "height": null,
            "min_height": null,
            "padding": null,
            "grid_auto_rows": null,
            "grid_gap": null,
            "max_width": null,
            "order": null,
            "_view_module_version": "1.2.0",
            "grid_template_areas": null,
            "object_position": null,
            "object_fit": null,
            "grid_auto_columns": null,
            "margin": null,
            "display": null,
            "left": null
          }
        },
        "c6b78f78cf184cbb9eb5edef610a854a": {
          "model_module": "@jupyter-widgets/controls",
          "model_name": "FloatProgressModel",
          "state": {
            "_view_name": "ProgressView",
            "style": "IPY_MODEL_130f973fa5dd498d88c748f4e4241d1b",
            "_dom_classes": [],
            "description": "100%",
            "_model_name": "FloatProgressModel",
            "bar_style": "success",
            "max": 244418560,
            "_view_module": "@jupyter-widgets/controls",
            "_model_module_version": "1.5.0",
            "value": 244418560,
            "_view_count": null,
            "_view_module_version": "1.5.0",
            "orientation": "horizontal",
            "min": 0,
            "description_tooltip": null,
            "_model_module": "@jupyter-widgets/controls",
            "layout": "IPY_MODEL_e971be238bb4454b843be79f67a7715f"
          }
        },
        "ecfeacb930cc4351a6b987c280acbd5b": {
          "model_module": "@jupyter-widgets/controls",
          "model_name": "HTMLModel",
          "state": {
            "_view_name": "HTMLView",
            "style": "IPY_MODEL_a03a33e4a8384dd8982643423923b5c7",
            "_dom_classes": [],
            "description": "",
            "_model_name": "HTMLModel",
            "placeholder": "​",
            "_view_module": "@jupyter-widgets/controls",
            "_model_module_version": "1.5.0",
            "value": " 233M/233M [2:41:30&lt;00:00, 25.2kB/s]",
            "_view_count": null,
            "_view_module_version": "1.5.0",
            "description_tooltip": null,
            "_model_module": "@jupyter-widgets/controls",
            "layout": "IPY_MODEL_cdc3737059de4b30a497be04c6006211"
          }
        },
        "130f973fa5dd498d88c748f4e4241d1b": {
          "model_module": "@jupyter-widgets/controls",
          "model_name": "ProgressStyleModel",
          "state": {
            "_view_name": "StyleView",
            "_model_name": "ProgressStyleModel",
            "description_width": "initial",
            "_view_module": "@jupyter-widgets/base",
            "_model_module_version": "1.5.0",
            "_view_count": null,
            "_view_module_version": "1.2.0",
            "bar_color": null,
            "_model_module": "@jupyter-widgets/controls"
          }
        },
        "e971be238bb4454b843be79f67a7715f": {
          "model_module": "@jupyter-widgets/base",
          "model_name": "LayoutModel",
          "state": {
            "_view_name": "LayoutView",
            "grid_template_rows": null,
            "right": null,
            "justify_content": null,
            "_view_module": "@jupyter-widgets/base",
            "overflow": null,
            "_model_module_version": "1.2.0",
            "_view_count": null,
            "flex_flow": null,
            "width": null,
            "min_width": null,
            "border": null,
            "align_items": null,
            "bottom": null,
            "_model_module": "@jupyter-widgets/base",
            "top": null,
            "grid_column": null,
            "overflow_y": null,
            "overflow_x": null,
            "grid_auto_flow": null,
            "grid_area": null,
            "grid_template_columns": null,
            "flex": null,
            "_model_name": "LayoutModel",
            "justify_items": null,
            "grid_row": null,
            "max_height": null,
            "align_content": null,
            "visibility": null,
            "align_self": null,
            "height": null,
            "min_height": null,
            "padding": null,
            "grid_auto_rows": null,
            "grid_gap": null,
            "max_width": null,
            "order": null,
            "_view_module_version": "1.2.0",
            "grid_template_areas": null,
            "object_position": null,
            "object_fit": null,
            "grid_auto_columns": null,
            "margin": null,
            "display": null,
            "left": null
          }
        },
        "a03a33e4a8384dd8982643423923b5c7": {
          "model_module": "@jupyter-widgets/controls",
          "model_name": "DescriptionStyleModel",
          "state": {
            "_view_name": "StyleView",
            "_model_name": "DescriptionStyleModel",
            "description_width": "",
            "_view_module": "@jupyter-widgets/base",
            "_model_module_version": "1.5.0",
            "_view_count": null,
            "_view_module_version": "1.2.0",
            "_model_module": "@jupyter-widgets/controls"
          }
        },
        "cdc3737059de4b30a497be04c6006211": {
          "model_module": "@jupyter-widgets/base",
          "model_name": "LayoutModel",
          "state": {
            "_view_name": "LayoutView",
            "grid_template_rows": null,
            "right": null,
            "justify_content": null,
            "_view_module": "@jupyter-widgets/base",
            "overflow": null,
            "_model_module_version": "1.2.0",
            "_view_count": null,
            "flex_flow": null,
            "width": null,
            "min_width": null,
            "border": null,
            "align_items": null,
            "bottom": null,
            "_model_module": "@jupyter-widgets/base",
            "top": null,
            "grid_column": null,
            "overflow_y": null,
            "overflow_x": null,
            "grid_auto_flow": null,
            "grid_area": null,
            "grid_template_columns": null,
            "flex": null,
            "_model_name": "LayoutModel",
            "justify_items": null,
            "grid_row": null,
            "max_height": null,
            "align_content": null,
            "visibility": null,
            "align_self": null,
            "height": null,
            "min_height": null,
            "padding": null,
            "grid_auto_rows": null,
            "grid_gap": null,
            "max_width": null,
            "order": null,
            "_view_module_version": "1.2.0",
            "grid_template_areas": null,
            "object_position": null,
            "object_fit": null,
            "grid_auto_columns": null,
            "margin": null,
            "display": null,
            "left": null
          }
        },
        "066802c326754163b4c06b9faf4d69a9": {
          "model_module": "@jupyter-widgets/controls",
          "model_name": "HBoxModel",
          "state": {
            "_view_name": "HBoxView",
            "_dom_classes": [],
            "_model_name": "HBoxModel",
            "_view_module": "@jupyter-widgets/controls",
            "_model_module_version": "1.5.0",
            "_view_count": null,
            "_view_module_version": "1.5.0",
            "box_style": "",
            "layout": "IPY_MODEL_92cfccf450634686b592260ba5ada1a3",
            "_model_module": "@jupyter-widgets/controls",
            "children": [
              "IPY_MODEL_299e5e777a224f61a891f640cf99df40",
              "IPY_MODEL_777797c8be76425c925e9c6600b599a0"
            ]
          }
        },
        "92cfccf450634686b592260ba5ada1a3": {
          "model_module": "@jupyter-widgets/base",
          "model_name": "LayoutModel",
          "state": {
            "_view_name": "LayoutView",
            "grid_template_rows": null,
            "right": null,
            "justify_content": null,
            "_view_module": "@jupyter-widgets/base",
            "overflow": null,
            "_model_module_version": "1.2.0",
            "_view_count": null,
            "flex_flow": null,
            "width": null,
            "min_width": null,
            "border": null,
            "align_items": null,
            "bottom": null,
            "_model_module": "@jupyter-widgets/base",
            "top": null,
            "grid_column": null,
            "overflow_y": null,
            "overflow_x": null,
            "grid_auto_flow": null,
            "grid_area": null,
            "grid_template_columns": null,
            "flex": null,
            "_model_name": "LayoutModel",
            "justify_items": null,
            "grid_row": null,
            "max_height": null,
            "align_content": null,
            "visibility": null,
            "align_self": null,
            "height": null,
            "min_height": null,
            "padding": null,
            "grid_auto_rows": null,
            "grid_gap": null,
            "max_width": null,
            "order": null,
            "_view_module_version": "1.2.0",
            "grid_template_areas": null,
            "object_position": null,
            "object_fit": null,
            "grid_auto_columns": null,
            "margin": null,
            "display": null,
            "left": null
          }
        },
        "299e5e777a224f61a891f640cf99df40": {
          "model_module": "@jupyter-widgets/controls",
          "model_name": "FloatProgressModel",
          "state": {
            "_view_name": "ProgressView",
            "style": "IPY_MODEL_dfc6184977734e7d984115452b8ac9e5",
            "_dom_classes": [],
            "description": "100%",
            "_model_name": "FloatProgressModel",
            "bar_style": "success",
            "max": 244418560,
            "_view_module": "@jupyter-widgets/controls",
            "_model_module_version": "1.5.0",
            "value": 244418560,
            "_view_count": null,
            "_view_module_version": "1.5.0",
            "orientation": "horizontal",
            "min": 0,
            "description_tooltip": null,
            "_model_module": "@jupyter-widgets/controls",
            "layout": "IPY_MODEL_08725a6ccf0440f69847dfa4b236aeb8"
          }
        },
        "777797c8be76425c925e9c6600b599a0": {
          "model_module": "@jupyter-widgets/controls",
          "model_name": "HTMLModel",
          "state": {
            "_view_name": "HTMLView",
            "style": "IPY_MODEL_039f6125adec4a7fa341532800323a0b",
            "_dom_classes": [],
            "description": "",
            "_model_name": "HTMLModel",
            "placeholder": "​",
            "_view_module": "@jupyter-widgets/controls",
            "_model_module_version": "1.5.0",
            "value": " 233M/233M [23:12&lt;00:00, 175kB/s]",
            "_view_count": null,
            "_view_module_version": "1.5.0",
            "description_tooltip": null,
            "_model_module": "@jupyter-widgets/controls",
            "layout": "IPY_MODEL_6256207c38f84d53ac18703b8f54ec82"
          }
        },
        "dfc6184977734e7d984115452b8ac9e5": {
          "model_module": "@jupyter-widgets/controls",
          "model_name": "ProgressStyleModel",
          "state": {
            "_view_name": "StyleView",
            "_model_name": "ProgressStyleModel",
            "description_width": "initial",
            "_view_module": "@jupyter-widgets/base",
            "_model_module_version": "1.5.0",
            "_view_count": null,
            "_view_module_version": "1.2.0",
            "bar_color": null,
            "_model_module": "@jupyter-widgets/controls"
          }
        },
        "08725a6ccf0440f69847dfa4b236aeb8": {
          "model_module": "@jupyter-widgets/base",
          "model_name": "LayoutModel",
          "state": {
            "_view_name": "LayoutView",
            "grid_template_rows": null,
            "right": null,
            "justify_content": null,
            "_view_module": "@jupyter-widgets/base",
            "overflow": null,
            "_model_module_version": "1.2.0",
            "_view_count": null,
            "flex_flow": null,
            "width": null,
            "min_width": null,
            "border": null,
            "align_items": null,
            "bottom": null,
            "_model_module": "@jupyter-widgets/base",
            "top": null,
            "grid_column": null,
            "overflow_y": null,
            "overflow_x": null,
            "grid_auto_flow": null,
            "grid_area": null,
            "grid_template_columns": null,
            "flex": null,
            "_model_name": "LayoutModel",
            "justify_items": null,
            "grid_row": null,
            "max_height": null,
            "align_content": null,
            "visibility": null,
            "align_self": null,
            "height": null,
            "min_height": null,
            "padding": null,
            "grid_auto_rows": null,
            "grid_gap": null,
            "max_width": null,
            "order": null,
            "_view_module_version": "1.2.0",
            "grid_template_areas": null,
            "object_position": null,
            "object_fit": null,
            "grid_auto_columns": null,
            "margin": null,
            "display": null,
            "left": null
          }
        },
        "039f6125adec4a7fa341532800323a0b": {
          "model_module": "@jupyter-widgets/controls",
          "model_name": "DescriptionStyleModel",
          "state": {
            "_view_name": "StyleView",
            "_model_name": "DescriptionStyleModel",
            "description_width": "",
            "_view_module": "@jupyter-widgets/base",
            "_model_module_version": "1.5.0",
            "_view_count": null,
            "_view_module_version": "1.2.0",
            "_model_module": "@jupyter-widgets/controls"
          }
        },
        "6256207c38f84d53ac18703b8f54ec82": {
          "model_module": "@jupyter-widgets/base",
          "model_name": "LayoutModel",
          "state": {
            "_view_name": "LayoutView",
            "grid_template_rows": null,
            "right": null,
            "justify_content": null,
            "_view_module": "@jupyter-widgets/base",
            "overflow": null,
            "_model_module_version": "1.2.0",
            "_view_count": null,
            "flex_flow": null,
            "width": null,
            "min_width": null,
            "border": null,
            "align_items": null,
            "bottom": null,
            "_model_module": "@jupyter-widgets/base",
            "top": null,
            "grid_column": null,
            "overflow_y": null,
            "overflow_x": null,
            "grid_auto_flow": null,
            "grid_area": null,
            "grid_template_columns": null,
            "flex": null,
            "_model_name": "LayoutModel",
            "justify_items": null,
            "grid_row": null,
            "max_height": null,
            "align_content": null,
            "visibility": null,
            "align_self": null,
            "height": null,
            "min_height": null,
            "padding": null,
            "grid_auto_rows": null,
            "grid_gap": null,
            "max_width": null,
            "order": null,
            "_view_module_version": "1.2.0",
            "grid_template_areas": null,
            "object_position": null,
            "object_fit": null,
            "grid_auto_columns": null,
            "margin": null,
            "display": null,
            "left": null
          }
        }
      }
    }
  },
  "cells": [
    {
      "cell_type": "markdown",
      "metadata": {
        "id": "c9QcGnGPdX2C",
        "colab_type": "text"
      },
      "source": [
        "\n",
        "**Install requirements**"
      ]
    },
    {
      "cell_type": "code",
      "metadata": {
        "id": "k9O3aM3Tb28q",
        "colab_type": "code",
        "outputId": "d46978f7-385d-4a84-839f-60efedf66953",
        "colab": {
          "base_uri": "https://localhost:8080/",
          "height": 34
        }
      },
      "source": [
        "\"\"\"!pip3 install 'torch==1.3.1'\n",
        "!pip3 install 'torchvision==0.5.0'\n",
        "!pip3 install 'Pillow-SIMD'\n",
        "!pip3 install 'tqdm'\"\"\""
      ],
      "execution_count": 0,
      "outputs": [
        {
          "output_type": "execute_result",
          "data": {
            "text/plain": [
              "\"!pip3 install 'torch==1.3.1'\\n!pip3 install 'torchvision==0.5.0'\\n!pip3 install 'Pillow-SIMD'\\n!pip3 install 'tqdm'\""
            ]
          },
          "metadata": {
            "tags": []
          },
          "execution_count": 1
        }
      ]
    },
    {
      "cell_type": "markdown",
      "metadata": {
        "id": "fo942LMOdlh4",
        "colab_type": "text"
      },
      "source": [
        "**Import libraries**"
      ]
    },
    {
      "cell_type": "code",
      "metadata": {
        "id": "DokFOdD1dJEl",
        "colab_type": "code",
        "outputId": "e42b6e50-c794-4600-ec46-b7e14f6de377",
        "colab": {
          "base_uri": "https://localhost:8080/",
          "height": 71
        }
      },
      "source": [
        "import os\n",
        "import logging\n",
        "\n",
        "import torch\n",
        "import torch.nn as nn\n",
        "import torch.optim as optim\n",
        "from torch.utils.data import DataLoader\n",
        "from torch.backends import cudnn\n",
        "\n",
        "import torchvision\n",
        "from torchvision import transforms\n",
        "\n",
        "from PIL import Image\n",
        "from tqdm import tqdm\n",
        "\n",
        "# provided .py file\n",
        "import torch.nn as nn\n",
        "from torch.autograd import Function\n",
        "from torch.hub import load_state_dict_from_url\n",
        "import copy\n",
        "import numpy as np\n",
        "import pandas as pd\n",
        "import seaborn as sns; sns.set()\n",
        "import matplotlib.pyplot as plt"
      ],
      "execution_count": 0,
      "outputs": [
        {
          "output_type": "stream",
          "text": [
            "/usr/local/lib/python3.6/dist-packages/statsmodels/tools/_testing.py:19: FutureWarning: pandas.util.testing is deprecated. Use the functions in the public API at pandas.testing instead.\n",
            "  import pandas.util.testing as tm\n"
          ],
          "name": "stderr"
        }
      ]
    },
    {
      "cell_type": "markdown",
      "metadata": {
        "id": "OIDLJuIXK_vh",
        "colab_type": "text"
      },
      "source": [
        "**Set Arguments**"
      ]
    },
    {
      "cell_type": "code",
      "metadata": {
        "id": "d5PkYfqfK_SA",
        "colab_type": "code",
        "colab": {}
      },
      "source": [
        "DEVICE = 'cuda' # 'cuda' or 'cpu'\n",
        "\n",
        "NUM_CLASSES = 7 # 7 classes, 4 domains\n",
        "\n",
        "BATCH_SIZE = 256     # Higher batch sizes allows for larger learning rates. An empirical heuristic suggests that, when changing\n",
        "                     # the batch size, learning rate should change by the same factor to have comparable results\n",
        "\n",
        "LR = 1e-3            # The initial Learning Rate\n",
        "MOMENTUM = 0.9       # Hyperparameter for SGD, keep this at 0.9 when using SGD\n",
        "WEIGHT_DECAY = 5e-5  # Regularization, you can keep this at the default\n",
        "\n",
        "NUM_EPOCHS = 15      # Total number of training epochs (iterations over dataset)\n",
        "STEP_SIZE = 10       # How many epochs before decreasing learning rate (if using a step-down policy)\n",
        "GAMMA = 0.1          # Multiplicative factor for learning rate step-down\n",
        "\n",
        "LOG_FREQUENCY = 10\n",
        "\n",
        "# This is the weight of the reversed backpropagation, and must be optimized as an hyperparameter of the algorithm\n",
        "ALPHA = None\n",
        "\n",
        "# Use domain adaptation during training? True, False\n",
        "DOMAIN_ADAPTATION = True"
      ],
      "execution_count": 0,
      "outputs": []
    },
    {
      "cell_type": "markdown",
      "metadata": {
        "id": "9gwii0TBHvzh",
        "colab_type": "text"
      },
      "source": [
        "**Define Data Preprocessing**"
      ]
    },
    {
      "cell_type": "code",
      "metadata": {
        "id": "QUDdw4j2H0Mc",
        "colab_type": "code",
        "colab": {}
      },
      "source": [
        "# Define transforms for training phase\n",
        "# Basic transformation to apply to the images loaded from the dataset\n",
        "basic_transform = transforms.Compose([transforms.Resize(256),      # Resizes short size of the PIL image to 256\n",
        "                                      transforms.CenterCrop(224),  # Crops a central square patch of the image\n",
        "                                                                   # 224 because torchvision's AlexNet needs a 224x224 input!\n",
        "                                                                   # Remember this when applying different transformations, otherwise you get an error\n",
        "                              \n",
        "                                      transforms.ToTensor(), # Turn PIL Image to torch.Tensor\n",
        "                                      transforms.Normalize((0.485, 0.456, 0.406), (0.229, 0.224, 0.225)) # Normalizes tensor with mean and standard deviation\n",
        "])"
      ],
      "execution_count": 0,
      "outputs": []
    },
    {
      "cell_type": "markdown",
      "metadata": {
        "id": "2qYIHPzYLY7i",
        "colab_type": "text"
      },
      "source": [
        "**Prepare Dataset**"
      ]
    },
    {
      "cell_type": "code",
      "metadata": {
        "id": "QfVq_uDHLbsR",
        "colab_type": "code",
        "outputId": "f0dff5e7-bc80-4e9a-cb9a-a28848b70b1c",
        "colab": {
          "base_uri": "https://localhost:8080/",
          "height": 187
        }
      },
      "source": [
        "# Clone github repository with data\n",
        "if not os.path.isdir('./Homework3-PACS'):\n",
        "  !git clone https://github.com/MachineLearning2020/Homework3-PACS\n",
        "\n",
        "PHOTO_DIR = 'Homework3-PACS/PACS/photo' # Photo is the src domain\n",
        "ART_DIR = 'Homework3-PACS/PACS/art_painting' # Art is the target domain \n",
        "CARTOON_DIR = 'Homework3-PACS/PACS/cartoon'\n",
        "SKETCH_DIR = 'Homework3-PACS/PACS/sketch' \n",
        "\n",
        "# You can easily read each domain as a PyTorch dataset using the ImageFolder class\n",
        "photo_dataset = torchvision.datasets.ImageFolder(PHOTO_DIR, transform=basic_transform)\n",
        "art_dataset = torchvision.datasets.ImageFolder(ART_DIR, transform=basic_transform)\n",
        "cartoon_dataset = torchvision.datasets.ImageFolder(CARTOON_DIR, transform=basic_transform)\n",
        "sketch_dataset = torchvision.datasets.ImageFolder(SKETCH_DIR, transform=basic_transform)\n",
        "\n",
        "print('Photo Dataset: {}'.format(len(photo_dataset)))\n",
        "print('Art Dataset: {}'.format(len(art_dataset)))\n",
        "print('Cartoon Dataset: {}'.format(len(cartoon_dataset)))\n",
        "print('Sketch Dataset: {}'.format(len(sketch_dataset)))"
      ],
      "execution_count": 0,
      "outputs": [
        {
          "output_type": "stream",
          "text": [
            "Cloning into 'Homework3-PACS'...\n",
            "remote: Enumerating objects: 10032, done.\u001b[K\n",
            "remote: Total 10032 (delta 0), reused 0 (delta 0), pack-reused 10032\u001b[K\n",
            "Receiving objects: 100% (10032/10032), 174.13 MiB | 40.85 MiB/s, done.\n",
            "Resolving deltas: 100% (1/1), done.\n",
            "Checking out files: 100% (9993/9993), done.\n",
            "Photo Dataset: 1670\n",
            "Art Dataset: 2048\n",
            "Cartoon Dataset: 2344\n",
            "Sketch Dataset: 3929\n"
          ],
          "name": "stdout"
        }
      ]
    },
    {
      "cell_type": "code",
      "metadata": {
        "id": "mO9_Ed3iJ6AL",
        "colab_type": "code",
        "outputId": "29ca9369-0e00-4713-e0e0-356bfba88a53",
        "colab": {
          "base_uri": "https://localhost:8080/",
          "height": 319
        }
      },
      "source": [
        "df = pd.DataFrame({'Domain':['Photo', 'Art', 'Cartoon', 'Sketch'], '#Elements':[len(photo_dataset), len(art_dataset), len(cartoon_dataset), len(sketch_dataset) ]})\n",
        "ax = df.plot(kind = 'bar',x='Domain', y='#Elements')"
      ],
      "execution_count": 0,
      "outputs": [
        {
          "output_type": "display_data",
          "data": {
            "image/png": "[encoded data removed]",
            "text/plain": [
              "<Figure size 432x288 with 1 Axes>"
            ]
          },
          "metadata": {
            "tags": []
          }
        }
      ]
    },
    {
      "cell_type": "markdown",
      "metadata": {
        "id": "FYEDQ7Z21ldN",
        "colab_type": "text"
      },
      "source": [
        "**Prepare Dataloaders**"
      ]
    },
    {
      "cell_type": "code",
      "metadata": {
        "id": "VriRw8SI1nle",
        "colab_type": "code",
        "colab": {}
      },
      "source": [
        "# Dataloaders iterate over pytorch datasets and transparently provide useful functions (e.g. parallelization and shuffling)\n",
        "# Loaders associated to the previous defined datasets\n",
        "photo_dataloader = DataLoader(photo_dataset, batch_size=BATCH_SIZE, shuffle=True, num_workers=4, drop_last=True)\n",
        "art_dataloader = DataLoader(art_dataset, batch_size=BATCH_SIZE, shuffle=True, num_workers=4, drop_last=True)\n",
        "cartoon_dataloader = DataLoader(cartoon_dataset, batch_size=BATCH_SIZE, shuffle=True, num_workers=4, drop_last=True)\n",
        "sketch_dataloader = DataLoader(sketch_dataset, batch_size=BATCH_SIZE, shuffle=True, num_workers=4, drop_last=True)"
      ],
      "execution_count": 0,
      "outputs": []
    },
    {
      "cell_type": "markdown",
      "metadata": {
        "id": "e1SjQh8_w5QO",
        "colab_type": "text"
      },
      "source": [
        "**Implementing the model**"
      ]
    },
    {
      "cell_type": "code",
      "metadata": {
        "id": "i_yXkWhow2vD",
        "colab_type": "code",
        "colab": {}
      },
      "source": [
        "# point 2\n",
        "# Original implementations of DANN already exists in public PyTorch repositories\n",
        "# i'm modifying alexnet accordingly\n",
        "\n",
        "# in this block i'm putting together:\n",
        "# - alexnet default implementation, https://github.com/pytorch/vision/blob/master/torchvision/models/alexnet.py\n",
        "# - provided gradient reversal, https://github.com/MachineLearning2020/Homework3-PACS/blob/master/gradient_reversal_example.py\n",
        "# => result: DANN network\n",
        "\n",
        "model_urls = \\\n",
        "{\n",
        "    'alexnet': 'https://download.pytorch.org/models/alexnet-owt-4df8aa71.pth',\n",
        "}\n",
        "\n",
        "class ReverseLayerF(Function):\n",
        "  # Forwards identity\n",
        "  # Sends backward reversed gradients\n",
        "  @staticmethod\n",
        "  def forward(ctx, x, alpha):\n",
        "      ctx.alpha = alpha\n",
        "\n",
        "      return x.view_as(x)\n",
        "\n",
        "  @staticmethod\n",
        "  def backward(ctx, grad_output):\n",
        "      output = grad_output.neg() * ctx.alpha\n",
        "\n",
        "      return output, None\n",
        "\n",
        "# AlexNet upgrade => DANN\n",
        "class DANN(nn.Module):\n",
        "    # To implement Gd, you have to modify the init function of AlexNet, and add the new branch\n",
        "    def __init__(self, num_classes=1000):\n",
        "        super(DANN, self).__init__()\n",
        "        self.features = nn.Sequential( # Gf\n",
        "            nn.Conv2d(3, 64, kernel_size=11, stride=4, padding=2),\n",
        "            nn.ReLU(inplace=True),\n",
        "            nn.MaxPool2d(kernel_size=3, stride=2),\n",
        "            nn.Conv2d(64, 192, kernel_size=5, padding=2),\n",
        "            nn.ReLU(inplace=True),\n",
        "            nn.MaxPool2d(kernel_size=3, stride=2),\n",
        "            nn.Conv2d(192, 384, kernel_size=3, padding=1),\n",
        "            nn.ReLU(inplace=True),\n",
        "            nn.Conv2d(384, 256, kernel_size=3, padding=1),\n",
        "            nn.ReLU(inplace=True),\n",
        "            nn.Conv2d(256, 256, kernel_size=3, padding=1),\n",
        "            nn.ReLU(inplace=True),\n",
        "            nn.MaxPool2d(kernel_size=3, stride=2),\n",
        "        )\n",
        "        self.classifier = nn.Sequential( #FC MAIN CLASSIFIER - Gy\n",
        "            nn.Dropout(),\n",
        "            nn.Linear(256 * 6 * 6, 4096),\n",
        "            nn.ReLU(inplace=True),\n",
        "            nn.Dropout(),\n",
        "            nn.Linear(4096, 4096),\n",
        "            nn.ReLU(inplace=True),\n",
        "            nn.Linear(4096, 1000),\n",
        "        )\n",
        "        # Basically, you have to add a new densely connected branch with 2 output neurons\n",
        "        self.GD = nn.Sequential( #FC DOMAIN CLASSIFIER (This is the update to the standard AlexNet) - Gd\n",
        "            nn.Dropout(),\n",
        "            nn.Linear(256 * 6 * 6, 4096),\n",
        "            nn.ReLU(inplace=True),\n",
        "            nn.Dropout(),\n",
        "            nn.Linear(4096, 4096),\n",
        "            nn.ReLU(inplace=True),\n",
        "            nn.Linear(4096, 2), # 2 classes, binary classifier\n",
        "        )\n",
        "\n",
        "\n",
        "    def forward(self, x, alpha=None):\n",
        "        features = self.features(x)\n",
        "        # Flatten the features:\n",
        "        features = features.view(features.size(0), -1)\n",
        "        # If we pass alpha, we can assume we are training the discriminator\n",
        "        if alpha is not None:\n",
        "            # gradient reversal layer (backward gradients will be reversed)\n",
        "            reverse_feature = ReverseLayerF.apply(features, alpha)\n",
        "            discriminator_output = self.GD(reverse_feature)\n",
        "            return discriminator_output\n",
        "        # If we don't pass alpha, we assume we are training with supervision\n",
        "        else:\n",
        "            class_outputs = self.classifier(features)\n",
        "            return class_outputs\n",
        "\n",
        "\n",
        "def dann(pretrained=False, progress=True, **kwargs):\n",
        "    r\"\"\"AlexNet model architecture from the\n",
        "    `\"One weird trick...\" <https://arxiv.org/abs/1404.5997>`_ paper.\n",
        "    Args:\n",
        "        pretrained (bool): If True, returns a model pre-trained on ImageNet\n",
        "        progress (bool): If True, displays a progress bar of the download to stderr\n",
        "    \"\"\"\n",
        "    model = DANN(**kwargs)\n",
        "    if pretrained:\n",
        "        state_dict = load_state_dict_from_url(model_urls['alexnet'], progress=progress)       \n",
        "        model.load_state_dict(state_dict, strict=False) #If you create a new branch in the init function, and try to preload weights into the original branches, it gives you an error\n",
        "                                                        # Use the flag strict=False in the load_state_dict function to avoid this error\n",
        "        # modify gd\n",
        "        model.GD[1].weight.data = copy.deepcopy(model.classifier[1].weight.data)\n",
        "        model.GD[1].bias.data = copy.deepcopy(model.classifier[1].bias.data)\n",
        "        model.GD[4].weight.data = copy.deepcopy(model.classifier[4].weight.data)\n",
        "        model.GD[4].bias.data = copy.deepcopy(model.classifier[4].bias.data)   \n",
        "    return model"
      ],
      "execution_count": 0,
      "outputs": []
    },
    {
      "cell_type": "markdown",
      "metadata": {
        "id": "aXiOnVk04l3D",
        "colab_type": "text"
      },
      "source": [
        "**Prepare network (uncomment for points 3a, 3b)**"
      ]
    },
    {
      "cell_type": "code",
      "metadata": {
        "id": "exHUjtXa22DN",
        "colab_type": "code",
        "outputId": "fb29f58f-9d01-4766-b822-c6f909ecd162",
        "colab": {
          "base_uri": "https://localhost:8080/",
          "height": 54
        }
      },
      "source": [
        "train_dataloader = photo_dataloader\n",
        "test_dataloader = art_dataloader\n",
        "\n",
        "\"\"\"net = dann(pretrained = True) # Loading our AlexNet customized pretrained  model\n",
        "bestnet =  dann(pretrained = True) # keep track of the best model during the iteration (consider losses)\n",
        "\n",
        "# AlexNet has 1000 output neurons, corresponding to the 1000 ImageNet's classes\n",
        "# We need 7 outputs for PACS\n",
        "\n",
        "# modify last layer of alexnet\n",
        "net.classifier[6] = nn.Linear(4096, NUM_CLASSES) # nn.Linear in pytorch is a fully connected layer\n",
        "                                                 # The convolutional layer is nn.Conv2d\n",
        "bestnet.classifier[6] = nn.Linear(4096, NUM_CLASSES)                                             \n",
        "\n",
        "# We just changed the last layer of AlexNet with a new fully connected layer with 7 outputs\n",
        "# It is mandatory to study torchvision.models.alexnet source code\n",
        "\n",
        "\"\"\""
      ],
      "execution_count": 0,
      "outputs": [
        {
          "output_type": "execute_result",
          "data": {
            "text/plain": [
              "\"net = dann(pretrained = True) # Loading our AlexNet customized pretrained  model\\nbestnet =  dann(pretrained = True) # keep track of the best model during the iteration (consider losses)\\n\\n# AlexNet has 1000 output neurons, corresponding to the 1000 ImageNet's classes\\n# We need 7 outputs for PACS\\n\\n# modify last layer of alexnet\\nnet.classifier[6] = nn.Linear(4096, NUM_CLASSES) # nn.Linear in pytorch is a fully connected layer\\n                                                 # The convolutional layer is nn.Conv2d\\nbestnet.classifier[6] = nn.Linear(4096, NUM_CLASSES)                                             \\n\\n# We just changed the last layer of AlexNet with a new fully connected layer with 7 outputs\\n# It is mandatory to study torchvision.models.alexnet source code\\n\\n\""
            ]
          },
          "metadata": {
            "tags": []
          },
          "execution_count": 9
        }
      ]
    },
    {
      "cell_type": "markdown",
      "metadata": {
        "id": "KEyL3H_R4qCf",
        "colab_type": "text"
      },
      "source": [
        "**Prepare Training (uncomment for points 3a, 3b)**"
      ]
    },
    {
      "cell_type": "code",
      "metadata": {
        "id": "9sjq00G94tSc",
        "colab_type": "code",
        "outputId": "23253865-ee55-4ece-aae4-776c12e28225",
        "colab": {
          "base_uri": "https://localhost:8080/",
          "height": 54
        }
      },
      "source": [
        "\"\"\"# Define loss function\n",
        "criterion = nn.CrossEntropyLoss() # for classification, we use Cross Entropy\n",
        "\n",
        "# Choose parameters to optimize\n",
        "# To access a different set of parameters, you have to access submodules of AlexNet\n",
        "# (nn.Module objects, like AlexNet, implement the Composite Pattern)\n",
        "# e.g.: parameters of the fully connected layers: net.classifier.parameters()\n",
        "# e.g.: parameters of the convolutional layers: look at alexnet's source code ;) \n",
        "parameters_to_optimize = net.parameters() # In this case we optimize over all the parameters of AlexNet\n",
        "bestnet_parameters_to_optimize = bestnet.parameters()\n",
        "\n",
        "# Define optimizer\n",
        "# An optimizer updates the weights based on loss\n",
        "# We use SGD with momentum\n",
        "optimizer = optim.SGD(parameters_to_optimize, lr=LR, momentum=MOMENTUM, weight_decay=WEIGHT_DECAY)\n",
        "bestnet_optimizer = optim.SGD(bestnet_parameters_to_optimize, lr=LR, momentum=MOMENTUM, weight_decay=WEIGHT_DECAY)\n",
        "\n",
        "# Define scheduler\n",
        "# A scheduler dynamically changes learning rate\n",
        "# The most common schedule is the step(-down), which multiplies learning rate by gamma every STEP_SIZE epochs\n",
        "scheduler = optim.lr_scheduler.StepLR(optimizer, step_size=STEP_SIZE, gamma=GAMMA)\n",
        "bestnet_scheduler = optim.lr_scheduler.StepLR(bestnet_optimizer, step_size=STEP_SIZE, gamma=GAMMA)\"\"\""
      ],
      "execution_count": 0,
      "outputs": [
        {
          "output_type": "execute_result",
          "data": {
            "text/plain": [
              "\"# Define loss function\\ncriterion = nn.CrossEntropyLoss() # for classification, we use Cross Entropy\\n\\n# Choose parameters to optimize\\n# To access a different set of parameters, you have to access submodules of AlexNet\\n# (nn.Module objects, like AlexNet, implement the Composite Pattern)\\n# e.g.: parameters of the fully connected layers: net.classifier.parameters()\\n# e.g.: parameters of the convolutional layers: look at alexnet's source code ;) \\nparameters_to_optimize = net.parameters() # In this case we optimize over all the parameters of AlexNet\\nbestnet_parameters_to_optimize = bestnet.parameters()\\n\\n# Define optimizer\\n# An optimizer updates the weights based on loss\\n# We use SGD with momentum\\noptimizer = optim.SGD(parameters_to_optimize, lr=LR, momentum=MOMENTUM, weight_decay=WEIGHT_DECAY)\\nbestnet_optimizer = optim.SGD(bestnet_parameters_to_optimize, lr=LR, momentum=MOMENTUM, weight_decay=WEIGHT_DECAY)\\n\\n# Define scheduler\\n# A scheduler dynamically changes learning rate\\n# The most common schedule is the step(-down), which multiplies learning rate by gamma every STEP_SIZE epochs\\nscheduler = optim.lr_scheduler.StepLR(optimizer, step_size=STEP_SIZE, gamma=GAMMA)\\nbestnet_scheduler = optim.lr_scheduler.StepLR(bestnet_optimizer, step_size=STEP_SIZE, gamma=GAMMA)\""
            ]
          },
          "metadata": {
            "tags": []
          },
          "execution_count": 11
        }
      ]
    },
    {
      "cell_type": "markdown",
      "metadata": {
        "id": "wGPUeFBu4Z74",
        "colab_type": "text"
      },
      "source": [
        "**Point 4 support**"
      ]
    },
    {
      "cell_type": "code",
      "metadata": {
        "id": "4b67qCo1383y",
        "colab_type": "code",
        "colab": {}
      },
      "source": [
        "def instantiateNewNet(NUM_EPOCHS, train_dataloader, test_dataloader, target_dataloader, DOMAIN_ADAPTATION):\n",
        "  net = dann(pretrained = True) # Loading our AlexNet customized pretrained  model\n",
        "\n",
        "  # AlexNet has 1000 output neurons, corresponding to the 1000 ImageNet's classes\n",
        "  # We need 7 outputs for PACS\n",
        "\n",
        "  # modify last layer of alexnet\n",
        "  net.classifier[6] = nn.Linear(4096, NUM_CLASSES) # nn.Linear in pytorch is a fully connected layer\n",
        "                                                  # The convolutional layer is nn.Conv2d\n",
        "\n",
        "  # We just changed the last layer of AlexNet with a new fully connected layer with 7 outputs\n",
        "  # It is mandatory to study torchvision.models.alexnet source code\n",
        "\n",
        "  # Define loss function\n",
        "  criterion = nn.CrossEntropyLoss() # for classification, we use Cross Entropy\n",
        "\n",
        "  # Choose parameters to optimize\n",
        "  # To access a different set of parameters, you have to access submodules of AlexNet\n",
        "  # (nn.Module objects, like AlexNet, implement the Composite Pattern)\n",
        "  # e.g.: parameters of the fully connected layers: net.classifier.parameters()\n",
        "  # e.g.: parameters of the convolutional layers: look at alexnet's source code ;) \n",
        "  parameters_to_optimize = net.parameters() # In this case we optimize over all the parameters of AlexNet\n",
        "\n",
        "  # Define optimizer\n",
        "  # An optimizer updates the weights based on loss\n",
        "  # We use SGD with momentum\n",
        "  optimizer = optim.SGD(parameters_to_optimize, lr=LR, momentum=MOMENTUM, weight_decay=WEIGHT_DECAY)\n",
        "\n",
        "  # Define scheduler\n",
        "  # A scheduler dynamically changes learning rate\n",
        "  # The most common schedule is the step(-down), which multiplies learning rate by gamma every STEP_SIZE epochs\n",
        "  scheduler = optim.lr_scheduler.StepLR(optimizer, step_size=STEP_SIZE, gamma=GAMMA)\n",
        "\n",
        "  bestnet = training(net,criterion, NUM_EPOCHS, scheduler, optimizer, train_dataloader, test_dataloader, target_dataloader, DOMAIN_ADAPTATION)\n",
        "  return bestnet, optimizer, criterion"
      ],
      "execution_count": 0,
      "outputs": []
    },
    {
      "cell_type": "markdown",
      "metadata": {
        "id": "UsHFI-GAJd69",
        "colab_type": "text"
      },
      "source": [
        "**Test**"
      ]
    },
    {
      "cell_type": "code",
      "metadata": {
        "id": "EO3HV5pqJg1o",
        "colab_type": "code",
        "colab": {}
      },
      "source": [
        "def test(net, test_dataloader, test_dataset, optimizer, criterion):\n",
        "  net.train(False) # Set Network to evaluation mode\n",
        "\n",
        "  running_corrects = 0\n",
        "  running_loss = 0\n",
        "  for images, labels in tqdm(test_dataloader):\n",
        "    images = images.to(DEVICE)\n",
        "    labels = labels.to(DEVICE)\n",
        "\n",
        "    # Forward Pass\n",
        "    outputs = net(images)\n",
        "\n",
        "    optimizer.zero_grad()\n",
        "    loss = criterion(outputs, labels)\n",
        "\n",
        "    # Get predictions\n",
        "    _, preds = torch.max(outputs.data, 1)\n",
        "\n",
        "    # Update Corrects\n",
        "    running_loss += loss.item()*images.size(0)\n",
        "    running_corrects += torch.sum(preds == labels.data).data.item()\n",
        "\n",
        "  # Calculate Accuracy\n",
        "  accuracy = running_corrects / float(len(test_dataset))\n",
        "  loss = running_loss / float(len(test_dataset))\n",
        "\n",
        "  print('Test Accuracy: {}'.format(accuracy))\n",
        "  print('Test Loss: {}'.format(loss))\n",
        "  return accuracy, loss"
      ],
      "execution_count": 0,
      "outputs": []
    },
    {
      "cell_type": "code",
      "metadata": {
        "id": "xhIP589wdVTn",
        "colab_type": "code",
        "colab": {}
      },
      "source": [
        "def output(epochs_list, losses, losses_discriminator_source, losses_discriminator_target):\n",
        "  epochsLosses = list(zip(epochs_list, losses, losses_discriminator_source, losses_discriminator_target))\n",
        "  dataEpochsLosses = pd.DataFrame(epochsLosses, columns = ['Epochs', 'Loss', 'Loss discr. src', 'Loss discr. target'])\n",
        "  ax1 = sns.lineplot(x=\"Epochs\", y=\"Loss\", data=dataEpochsLosses)\n",
        "  ax1 = sns.lineplot(x=\"Epochs\", y=\"Loss discr. src\", data=dataEpochsLosses)\n",
        "  ax1 = sns.lineplot(x=\"Epochs\", y=\"Loss discr. target\", data=dataEpochsLosses)\n",
        "  ax1.legend(['Loss','Loss discr. src', 'Loss discr. target'])\n",
        "  ax1.set(xlabel='Epochs', ylabel='Loss')\n",
        "  plt.show()"
      ],
      "execution_count": 0,
      "outputs": []
    },
    {
      "cell_type": "code",
      "metadata": {
        "id": "-pM_jG1-cr5u",
        "colab_type": "code",
        "colab": {}
      },
      "source": [
        "# common function\n",
        "def training(net,criterion, NUM_EPOCHS, scheduler, optimizer, train_dataloader, test_dataloader, target_dataloader, DOMAIN_ADAPTATION):\n",
        "  bestnet = copy.deepcopy(net)\n",
        "\n",
        "  # i will iterate following the max number of batches\n",
        "  # so each dataset is iterated entirely at least once\n",
        "  nr_batches = max(len(train_dataloader), len(target_dataloader))\n",
        "  \n",
        "  # By default, everything is loaded to cpu\n",
        "  net = net.to(DEVICE) # this will bring the network to GPU if DEVICE is cuda\n",
        "\n",
        "  cudnn.benchmark # Calling this optimizes runtime\n",
        "\n",
        "  current_step = 0\n",
        "  epochs_list = []\n",
        "  losses = []\n",
        "  losses_discriminator_source = []\n",
        "  losses_discriminator_target = []\n",
        "\n",
        "  best_loss = float('inf')\n",
        "\n",
        "  # Start iterating over the epochs\n",
        "  for epoch in range(NUM_EPOCHS):\n",
        "    epochs_list.append(epoch)\n",
        "    print('Starting epoch {}/{}, LR = {}'.format(epoch+1, NUM_EPOCHS, scheduler.get_lr()))\n",
        "\n",
        "    # Iterate over the dataset\n",
        "    index = 0\n",
        "    while index < nr_batches:\n",
        "      \n",
        "      net.train() # Sets module in training mode\n",
        "      \n",
        "      # supervised learning of photos\n",
        "      source_images, source_labels = next(iter(train_dataloader))\n",
        "      source_images = source_images.to(DEVICE)\n",
        "      source_labels = source_labels.to(DEVICE)   \n",
        "\n",
        "      # PyTorch, by default, accumulates gradients after each backward pass\n",
        "      # We need to manually set the gradients to zero before starting a new iteration\n",
        "      optimizer.zero_grad() # Zero-ing the gradients\n",
        "\n",
        "      # Divide a single training iteration in three steps that you execute sequentially before calling optimizer.step()\n",
        "      # step1 - train on source labels by forwarding source data to Gy, get the loss, and update gradients with loss.backward()\n",
        "      outputs = net(source_images)\n",
        "      loss = criterion(outputs, source_labels)\n",
        "      loss.backward()  # backward pass: computes gradients\n",
        "\n",
        "      if DOMAIN_ADAPTATION:\n",
        "        # unsupervised learning of art (no labels)\n",
        "        target_images, target_labels = next(iter(target_dataloader))\n",
        "        target_images = target_images.to(DEVICE)  \n",
        "        \n",
        "        # step2 - train the discriminator by forwarding source data to Gd, get the loss (the label is 0 for all data), and update gradients with loss.backward()\n",
        "        outputs = net.forward(source_images, alpha=ALPHA) # by spcecifying alpha i know that i'm using the Gd part (see implemented class)      \n",
        "        labels_discriminator_source = torch.zeros(BATCH_SIZE, dtype=torch.int64).to(DEVICE)\n",
        "        loss_discriminator_source = criterion(outputs, labels_discriminator_source)           \n",
        "        loss_discriminator_source.backward()\n",
        "        \n",
        "        # step3 - train the discriminator by forwarding target data to Gd, get the loss (the label is 1), and update gradients with loss.backward()\n",
        "        outputs = net.forward(target_images, alpha=ALPHA)           \n",
        "        labels_discriminator_target = torch.ones(BATCH_SIZE, dtype=torch.int64).to(DEVICE) \n",
        "        loss_discriminator_target = criterion(outputs, labels_discriminator_target)       \n",
        "        loss_discriminator_target.backward()  \n",
        "\n",
        "        losses_discriminator_source.append(loss_discriminator_source.item())\n",
        "        losses_discriminator_target.append(loss_discriminator_target.item())\n",
        "\n",
        "      # shoud i update my best model?\n",
        "      # i choose based on accuracy and loss (in this order)\n",
        "\n",
        "      if loss.item() < best_loss:\n",
        "        best_loss = loss.item()\n",
        "        bestnet = copy.deepcopy(net) \n",
        "\n",
        "      losses.append(loss.item())\n",
        "    \n",
        "      optimizer.step() # update weights based on accumulated gradients\n",
        "\n",
        "      current_step += 1\n",
        "      index = index + 1\n",
        "\n",
        "    # Step the scheduler\n",
        "    scheduler.step() \n",
        "\n",
        "  # to optimize\n",
        "  #if DOMAIN_ADAPTATION:\n",
        "  #  output(epochs_list, losses, losses_discriminator_source, losses_discriminator_target)\n",
        "  return bestnet"
      ],
      "execution_count": 0,
      "outputs": []
    },
    {
      "cell_type": "markdown",
      "metadata": {
        "id": "kX_r7WtJ2ajJ",
        "colab_type": "text"
      },
      "source": [
        "**Point 3A**"
      ]
    },
    {
      "cell_type": "code",
      "metadata": {
        "id": "mfYUuiuSlahN",
        "colab_type": "code",
        "outputId": "fef52097-e9ac-43ee-d0a4-9abd072ed5ad",
        "colab": {
          "base_uri": "https://localhost:8080/",
          "height": 54
        }
      },
      "source": [
        "\"\"\"# setting 3A\n",
        "train_dataloader = photo_dataloader\n",
        "test_dataloader = art_dataloader\n",
        "target_dataloader = art_dataloader\n",
        "\n",
        "# train 3A\n",
        "DOMAIN_ADAPTATION = False\n",
        "training(net,bestnet,criterion, NUM_EPOCHS, scheduler, optimizer, train_dataloader,test_dataloader, target_dataloader, DOMAIN_ADAPTATION)\n",
        "\n",
        "# test 3A\n",
        "test(bestnet, test_dataloader, art_dataset)\"\"\""
      ],
      "execution_count": 0,
      "outputs": [
        {
          "output_type": "execute_result",
          "data": {
            "text/plain": [
              "'# setting 3A\\ntrain_dataloader = photo_dataloader\\ntest_dataloader = art_dataloader\\ntarget_dataloader = art_dataloader\\n\\n# train 3A\\nDOMAIN_ADAPTATION = False\\ntraining(net,bestnet,criterion, NUM_EPOCHS, scheduler, optimizer, train_dataloader,test_dataloader, target_dataloader, DOMAIN_ADAPTATION)\\n\\n# test 3A\\ntest(bestnet, test_dataloader, art_dataset)'"
            ]
          },
          "metadata": {
            "tags": []
          },
          "execution_count": 16
        }
      ]
    },
    {
      "cell_type": "markdown",
      "metadata": {
        "id": "pVs8Wtdc2Vga",
        "colab_type": "text"
      },
      "source": [
        "**Point 3B**"
      ]
    },
    {
      "cell_type": "code",
      "metadata": {
        "id": "qlCRLLsR0IRJ",
        "colab_type": "code",
        "outputId": "f97dff08-887c-4061-e9ac-b4b291e11a0b",
        "colab": {
          "base_uri": "https://localhost:8080/",
          "height": 54
        }
      },
      "source": [
        "\"\"\"# setting 3B\n",
        "train_dataloader = photo_dataloader\n",
        "test_dataloader = art_dataloader\n",
        "target_dataloader = art_dataloader\n",
        "\n",
        "# train 3B\n",
        "DOMAIN_ADAPTATION = True\n",
        "training(net,bestnet,criterion, NUM_EPOCHS, scheduler, optimizer, train_dataloader,test_dataloader, target_dataloader, DOMAIN_ADAPTATION)\n",
        "\n",
        "# test 3B\n",
        "test(bestnet, test_dataloader, art_dataset)\"\"\""
      ],
      "execution_count": 0,
      "outputs": [
        {
          "output_type": "execute_result",
          "data": {
            "text/plain": [
              "'# setting 3B\\ntrain_dataloader = photo_dataloader\\ntest_dataloader = art_dataloader\\ntarget_dataloader = art_dataloader\\n\\n# train 3B\\nDOMAIN_ADAPTATION = True\\ntraining(net,bestnet,criterion, NUM_EPOCHS, scheduler, optimizer, train_dataloader,test_dataloader, target_dataloader, DOMAIN_ADAPTATION)\\n\\n# test 3B\\ntest(bestnet, test_dataloader, art_dataset)'"
            ]
          },
          "metadata": {
            "tags": []
          },
          "execution_count": 17
        }
      ]
    },
    {
      "cell_type": "code",
      "metadata": {
        "id": "hiAZOJhh99fn",
        "colab_type": "code",
        "colab": {}
      },
      "source": [
        "# 4 - extra\n",
        "# Cross domain validation\n",
        "train_dataloader = photo_dataloader\n",
        "test_dataloader = art_dataloader"
      ],
      "execution_count": 0,
      "outputs": []
    },
    {
      "cell_type": "markdown",
      "metadata": {
        "id": "eBLtcTNJ2d8k",
        "colab_type": "text"
      },
      "source": [
        "**Point 4a**"
      ]
    },
    {
      "cell_type": "code",
      "metadata": {
        "id": "tYTmrg91D1SO",
        "colab_type": "code",
        "colab": {}
      },
      "source": [
        "def outputAccuracies(steps, accuraciesMean, accuraciesSketch, accuraciesCartoon):\n",
        "  stepsAccuracies = list(zip(steps, accuraciesMean, accuraciesSketch, accuraciesCartoon))\n",
        "  dataStepsAccuracies = pd.DataFrame(stepsAccuracies, columns = ['Steps', 'Mean Accuracy', 'Sketch accuracy', 'Cartoon accuracy'])\n",
        "  ax1 = sns.lineplot(x=\"Steps\", y=\"Mean Accuracy\", data=dataStepsAccuracies)\n",
        "  ax1 = sns.lineplot(x=\"Steps\", y=\"Sketch accuracy\", data=dataStepsAccuracies)\n",
        "  ax1 = sns.lineplot(x=\"Steps\", y=\"Cartoon accuracy\", data=dataStepsAccuracies)\n",
        "  ax1.legend(['Mean Accuracy','Sketch accuracy', 'Cartoon accuracy'])\n",
        "  ax1.set(xlabel='Steps', ylabel='Accuracy')\n",
        "  plt.show()\n",
        "\n",
        "def outputLosses(steps, lossesMean, lossesSketch, lossesCartoon):\n",
        "  stepsLosses = list(zip(steps, lossesMean, lossesSketch, lossesCartoon))\n",
        "  dataStepsLosses = pd.DataFrame(stepsLosses, columns = ['Steps', 'Mean Loss', 'Sketch Loss', 'Cartoon Loss'])\n",
        "  ax1 = sns.lineplot(x=\"Steps\", y=\"Mean Loss\", data=dataStepsLosses)\n",
        "  ax1 = sns.lineplot(x=\"Steps\", y=\"Sketch Loss\", data=dataStepsLosses)\n",
        "  ax1 = sns.lineplot(x=\"Steps\", y=\"Cartoon Loss\", data=dataStepsLosses)\n",
        "  ax1.legend(['Mean Loss','Sketch Loss', 'Cartoon Loss'])\n",
        "  ax1.set(xlabel='Steps', ylabel='Loss')\n",
        "  plt.show()"
      ],
      "execution_count": 0,
      "outputs": []
    },
    {
      "cell_type": "code",
      "metadata": {
        "id": "o5fOdQi8aB1X",
        "colab_type": "code",
        "outputId": "6c7e971f-46af-4628-e1e5-89ea419e52d1",
        "colab": {
          "base_uri": "https://localhost:8080/",
          "height": 1000,
          "referenced_widgets": [
            "d3c3b6a6f8a6461987b92615e21726ef",
            "5f03a4bea8204211b498b99b870aaf6e",
            "c6b78f78cf184cbb9eb5edef610a854a",
            "ecfeacb930cc4351a6b987c280acbd5b",
            "130f973fa5dd498d88c748f4e4241d1b",
            "e971be238bb4454b843be79f67a7715f",
            "a03a33e4a8384dd8982643423923b5c7",
            "cdc3737059de4b30a497be04c6006211"
          ]
        }
      },
      "source": [
        "LRs = [1e-2, 0.005, 1e-3]\n",
        "WEIGHT_DECAYs = [5e-5, 5e-4]\n",
        "STEP_SIZEs = [10, 14]\n",
        "\n",
        "best_Accuracy = -1 # i will test the best scoring net, in terms of accuracy, on art\n",
        "best_hparameters = (0, 0, 0)\n",
        "\n",
        "accuraciesCartoon = []\n",
        "accuraciesSketch = []\n",
        "accuraciesMean = []\n",
        "\n",
        "lossesCartoon = []\n",
        "lossesSketch = []\n",
        "lossesMean = []\n",
        "\n",
        "\n",
        "steps = []\n",
        "step = 0\n",
        "for LR in LRs:\n",
        "  for WEIGHT_DECAY in WEIGHT_DECAYs:\n",
        "    for STEP_SIZE in STEP_SIZEs:\n",
        "      # 4A  => find the best parameters!\n",
        "      # without domain adaptation i do not need to train 2 nets,\n",
        "      # yet i just have to test the same net against the 2 targets \n",
        "      # => target dataloader is not actually used if not in the test!\n",
        "      DOMAIN_ADAPTATION = False\n",
        "\n",
        "      target_dataloader = cartoon_dataloader\n",
        "      bestnet, optimizer, criterion = instantiateNewNet(NUM_EPOCHS, train_dataloader, test_dataloader, target_dataloader, DOMAIN_ADAPTATION)\n",
        "      cartoonAccuracy, cartoonLoss = test(bestnet, target_dataloader, cartoon_dataset, optimizer, criterion)\n",
        "      target_dataloader = sketch_dataloader\n",
        "      sketchAccuracy, sketchLoss = test(bestnet, target_dataloader, sketch_dataset, optimizer, criterion)\n",
        "      meanAccuracy = (cartoonAccuracy + sketchAccuracy)/2\n",
        "      meanLoss = (cartoonLoss + sketchLoss)/2\n",
        "      if meanAccuracy > best_Accuracy:\n",
        "        best_Accuracy = meanAccuracy\n",
        "        best_hparameters = (LR, WEIGHT_DECAY, STEP_SIZE)\n",
        "      print(\"\\nDEBUG: parameters tested (LR, WEIGHT_DECAY, STEP_SIZE): {}\".format((LR, WEIGHT_DECAY,STEP_SIZE)))\n",
        "      print(\"\\nDEBUG:\\nCartoon accuracy: {}\\n Sketch accuracy: {}\\n Mean accuracy: {}\".format(cartoonAccuracy, sketchAccuracy, meanAccuracy))\n",
        "\n",
        "      steps.append(step)\n",
        "      accuraciesMean.append(meanAccuracy)\n",
        "      accuraciesSketch.append(sketchAccuracy)\n",
        "      accuraciesCartoon.append(cartoonAccuracy)\n",
        "\n",
        "      lossesMean.append(meanLoss)\n",
        "      lossesSketch.append(sketchLoss)\n",
        "      lossesCartoon.append(cartoonLoss)\n",
        "      step = step + 1"
      ],
      "execution_count": 0,
      "outputs": [
        {
          "output_type": "stream",
          "text": [
            "Downloading: \"https://download.pytorch.org/models/alexnet-owt-4df8aa71.pth\" to /root/.cache/torch/checkpoints/alexnet-owt-4df8aa71.pth\n"
          ],
          "name": "stderr"
        },
        {
          "output_type": "display_data",
          "data": {
            "application/vnd.jupyter.widget-view+json": {
              "model_id": "d3c3b6a6f8a6461987b92615e21726ef",
              "version_minor": 0,
              "version_major": 2
            },
            "text/plain": [
              "HBox(children=(FloatProgress(value=0.0, max=244418560.0), HTML(value='')))"
            ]
          },
          "metadata": {
            "tags": []
          }
        },
        {
          "output_type": "stream",
          "text": [
            "\n",
            "Starting epoch 1/15, LR = [0.01]\n"
          ],
          "name": "stdout"
        },
        {
          "output_type": "stream",
          "text": [
            "/usr/local/lib/python3.6/dist-packages/torch/optim/lr_scheduler.py:351: UserWarning: To get the last learning rate computed by the scheduler, please use `get_last_lr()`.\n",
            "  \"please use `get_last_lr()`.\", UserWarning)\n"
          ],
          "name": "stderr"
        },
        {
          "output_type": "stream",
          "text": [
            "Starting epoch 2/15, LR = [0.01]\n",
            "Starting epoch 3/15, LR = [0.01]\n",
            "Starting epoch 4/15, LR = [0.01]\n",
            "Starting epoch 5/15, LR = [0.01]\n",
            "Starting epoch 6/15, LR = [0.01]\n",
            "Starting epoch 7/15, LR = [0.01]\n",
            "Starting epoch 8/15, LR = [0.01]\n",
            "Starting epoch 9/15, LR = [0.01]\n",
            "Starting epoch 10/15, LR = [0.01]\n",
            "Starting epoch 11/15, LR = [0.0001]\n",
            "Starting epoch 12/15, LR = [0.001]\n",
            "Starting epoch 13/15, LR = [0.001]\n",
            "Starting epoch 14/15, LR = [0.001]\n",
            "Starting epoch 15/15, LR = [0.001]\n"
          ],
          "name": "stdout"
        },
        {
          "output_type": "stream",
          "text": [
            "100%|██████████| 9/9 [00:07<00:00,  1.18it/s]\n",
            "  0%|          | 0/15 [00:00<?, ?it/s]"
          ],
          "name": "stderr"
        },
        {
          "output_type": "stream",
          "text": [
            "Test Accuracy: 0.2295221843003413\n",
            "Test Loss: 6.89055407006586\n"
          ],
          "name": "stdout"
        },
        {
          "output_type": "stream",
          "text": [
            "100%|██████████| 15/15 [00:11<00:00,  1.30it/s]\n"
          ],
          "name": "stderr"
        },
        {
          "output_type": "stream",
          "text": [
            "Test Accuracy: 0.26851616187325017\n",
            "Test Loss: 3.600012604715139\n",
            "\n",
            "DEBUG: parameters tested (LR, WEIGHT_DECAY, STEP_SIZE): (0.01, 5e-05, 10)\n",
            "\n",
            "DEBUG:\n",
            "Cartoon accuracy: 0.2295221843003413\n",
            " Sketch accuracy: 0.26851616187325017\n",
            " Mean accuracy: 0.24901917308679572\n",
            "Starting epoch 1/15, LR = [0.01]\n",
            "Starting epoch 2/15, LR = [0.01]\n",
            "Starting epoch 3/15, LR = [0.01]\n",
            "Starting epoch 4/15, LR = [0.01]\n",
            "Starting epoch 5/15, LR = [0.01]\n",
            "Starting epoch 6/15, LR = [0.01]\n",
            "Starting epoch 7/15, LR = [0.01]\n",
            "Starting epoch 8/15, LR = [0.01]\n",
            "Starting epoch 9/15, LR = [0.01]\n",
            "Starting epoch 10/15, LR = [0.01]\n",
            "Starting epoch 11/15, LR = [0.01]\n",
            "Starting epoch 12/15, LR = [0.01]\n",
            "Starting epoch 13/15, LR = [0.01]\n",
            "Starting epoch 14/15, LR = [0.01]\n",
            "Starting epoch 15/15, LR = [0.0001]\n"
          ],
          "name": "stdout"
        },
        {
          "output_type": "stream",
          "text": [
            "100%|██████████| 9/9 [00:07<00:00,  1.21it/s]\n",
            "  0%|          | 0/15 [00:00<?, ?it/s]"
          ],
          "name": "stderr"
        },
        {
          "output_type": "stream",
          "text": [
            "Test Accuracy: 0.2743174061433447\n",
            "Test Loss: 7.306622762322019\n"
          ],
          "name": "stdout"
        },
        {
          "output_type": "stream",
          "text": [
            "100%|██████████| 15/15 [00:11<00:00,  1.33it/s]\n"
          ],
          "name": "stderr"
        },
        {
          "output_type": "stream",
          "text": [
            "Test Accuracy: 0.3130567574446424\n",
            "Test Loss: 3.707729185225248\n",
            "\n",
            "DEBUG: parameters tested (LR, WEIGHT_DECAY, STEP_SIZE): (0.01, 5e-05, 14)\n",
            "\n",
            "DEBUG:\n",
            "Cartoon accuracy: 0.2743174061433447\n",
            " Sketch accuracy: 0.3130567574446424\n",
            " Mean accuracy: 0.29368708179399355\n",
            "Starting epoch 1/15, LR = [0.01]\n",
            "Starting epoch 2/15, LR = [0.01]\n",
            "Starting epoch 3/15, LR = [0.01]\n",
            "Starting epoch 4/15, LR = [0.01]\n",
            "Starting epoch 5/15, LR = [0.01]\n",
            "Starting epoch 6/15, LR = [0.01]\n",
            "Starting epoch 7/15, LR = [0.01]\n",
            "Starting epoch 8/15, LR = [0.01]\n",
            "Starting epoch 9/15, LR = [0.01]\n",
            "Starting epoch 10/15, LR = [0.01]\n",
            "Starting epoch 11/15, LR = [0.0001]\n",
            "Starting epoch 12/15, LR = [0.001]\n",
            "Starting epoch 13/15, LR = [0.001]\n",
            "Starting epoch 14/15, LR = [0.001]\n",
            "Starting epoch 15/15, LR = [0.001]\n"
          ],
          "name": "stdout"
        },
        {
          "output_type": "stream",
          "text": [
            "100%|██████████| 9/9 [00:07<00:00,  1.18it/s]\n",
            "  0%|          | 0/15 [00:00<?, ?it/s]"
          ],
          "name": "stderr"
        },
        {
          "output_type": "stream",
          "text": [
            "Test Accuracy: 0.2137372013651877\n",
            "Test Loss: 8.414086247466937\n"
          ],
          "name": "stdout"
        },
        {
          "output_type": "stream",
          "text": [
            "100%|██████████| 15/15 [00:11<00:00,  1.30it/s]\n"
          ],
          "name": "stderr"
        },
        {
          "output_type": "stream",
          "text": [
            "Test Accuracy: 0.22168490710104352\n",
            "Test Loss: 4.396588487399386\n",
            "\n",
            "DEBUG: parameters tested (LR, WEIGHT_DECAY, STEP_SIZE): (0.01, 0.0005, 10)\n",
            "\n",
            "DEBUG:\n",
            "Cartoon accuracy: 0.2137372013651877\n",
            " Sketch accuracy: 0.22168490710104352\n",
            " Mean accuracy: 0.2177110542331156\n",
            "Starting epoch 1/15, LR = [0.01]\n",
            "Starting epoch 2/15, LR = [0.01]\n",
            "Starting epoch 3/15, LR = [0.01]\n",
            "Starting epoch 4/15, LR = [0.01]\n",
            "Starting epoch 5/15, LR = [0.01]\n",
            "Starting epoch 6/15, LR = [0.01]\n",
            "Starting epoch 7/15, LR = [0.01]\n",
            "Starting epoch 8/15, LR = [0.01]\n",
            "Starting epoch 9/15, LR = [0.01]\n",
            "Starting epoch 10/15, LR = [0.01]\n",
            "Starting epoch 11/15, LR = [0.01]\n",
            "Starting epoch 12/15, LR = [0.01]\n",
            "Starting epoch 13/15, LR = [0.01]\n",
            "Starting epoch 14/15, LR = [0.01]\n",
            "Starting epoch 15/15, LR = [0.0001]\n"
          ],
          "name": "stdout"
        },
        {
          "output_type": "stream",
          "text": [
            "100%|██████████| 9/9 [00:08<00:00,  1.12it/s]\n",
            "  0%|          | 0/15 [00:00<?, ?it/s]"
          ],
          "name": "stderr"
        },
        {
          "output_type": "stream",
          "text": [
            "Test Accuracy: 0.27303754266211605\n",
            "Test Loss: 7.5957178109335\n"
          ],
          "name": "stdout"
        },
        {
          "output_type": "stream",
          "text": [
            "100%|██████████| 15/15 [00:12<00:00,  1.22it/s]\n"
          ],
          "name": "stderr"
        },
        {
          "output_type": "stream",
          "text": [
            "Test Accuracy: 0.30440315601934337\n",
            "Test Loss: 4.077380725280964\n",
            "\n",
            "DEBUG: parameters tested (LR, WEIGHT_DECAY, STEP_SIZE): (0.01, 0.0005, 14)\n",
            "\n",
            "DEBUG:\n",
            "Cartoon accuracy: 0.27303754266211605\n",
            " Sketch accuracy: 0.30440315601934337\n",
            " Mean accuracy: 0.2887203493407297\n",
            "Starting epoch 1/15, LR = [0.005]\n",
            "Starting epoch 2/15, LR = [0.005]\n",
            "Starting epoch 3/15, LR = [0.005]\n",
            "Starting epoch 4/15, LR = [0.005]\n",
            "Starting epoch 5/15, LR = [0.005]\n",
            "Starting epoch 6/15, LR = [0.005]\n",
            "Starting epoch 7/15, LR = [0.005]\n",
            "Starting epoch 8/15, LR = [0.005]\n",
            "Starting epoch 9/15, LR = [0.005]\n",
            "Starting epoch 10/15, LR = [0.005]\n",
            "Starting epoch 11/15, LR = [5e-05]\n",
            "Starting epoch 12/15, LR = [0.0005]\n",
            "Starting epoch 13/15, LR = [0.0005]\n",
            "Starting epoch 14/15, LR = [0.0005]\n",
            "Starting epoch 15/15, LR = [0.0005]\n"
          ],
          "name": "stdout"
        },
        {
          "output_type": "stream",
          "text": [
            "100%|██████████| 9/9 [00:08<00:00,  1.11it/s]\n",
            "  0%|          | 0/15 [00:00<?, ?it/s]"
          ],
          "name": "stderr"
        },
        {
          "output_type": "stream",
          "text": [
            "Test Accuracy: 0.2606655290102389\n",
            "Test Loss: 6.28274744443926\n"
          ],
          "name": "stdout"
        },
        {
          "output_type": "stream",
          "text": [
            "100%|██████████| 15/15 [00:12<00:00,  1.21it/s]\n"
          ],
          "name": "stderr"
        },
        {
          "output_type": "stream",
          "text": [
            "Test Accuracy: 0.302876049885467\n",
            "Test Loss: 2.6039981429405143\n",
            "\n",
            "DEBUG: parameters tested (LR, WEIGHT_DECAY, STEP_SIZE): (0.005, 5e-05, 10)\n",
            "\n",
            "DEBUG:\n",
            "Cartoon accuracy: 0.2606655290102389\n",
            " Sketch accuracy: 0.302876049885467\n",
            " Mean accuracy: 0.28177078944785294\n",
            "Starting epoch 1/15, LR = [0.005]\n",
            "Starting epoch 2/15, LR = [0.005]\n",
            "Starting epoch 3/15, LR = [0.005]\n",
            "Starting epoch 4/15, LR = [0.005]\n",
            "Starting epoch 5/15, LR = [0.005]\n",
            "Starting epoch 6/15, LR = [0.005]\n",
            "Starting epoch 7/15, LR = [0.005]\n",
            "Starting epoch 8/15, LR = [0.005]\n",
            "Starting epoch 9/15, LR = [0.005]\n",
            "Starting epoch 10/15, LR = [0.005]\n",
            "Starting epoch 11/15, LR = [0.005]\n",
            "Starting epoch 12/15, LR = [0.005]\n",
            "Starting epoch 13/15, LR = [0.005]\n",
            "Starting epoch 14/15, LR = [0.005]\n",
            "Starting epoch 15/15, LR = [5e-05]\n"
          ],
          "name": "stdout"
        },
        {
          "output_type": "stream",
          "text": [
            "100%|██████████| 9/9 [00:08<00:00,  1.08it/s]\n",
            "  0%|          | 0/15 [00:00<?, ?it/s]"
          ],
          "name": "stderr"
        },
        {
          "output_type": "stream",
          "text": [
            "Test Accuracy: 0.2794368600682594\n",
            "Test Loss: 6.249131811356788\n"
          ],
          "name": "stdout"
        },
        {
          "output_type": "stream",
          "text": [
            "100%|██████████| 15/15 [00:12<00:00,  1.18it/s]\n"
          ],
          "name": "stderr"
        },
        {
          "output_type": "stream",
          "text": [
            "Test Accuracy: 0.3196742173581064\n",
            "Test Loss: 2.7558708084118098\n",
            "\n",
            "DEBUG: parameters tested (LR, WEIGHT_DECAY, STEP_SIZE): (0.005, 5e-05, 14)\n",
            "\n",
            "DEBUG:\n",
            "Cartoon accuracy: 0.2794368600682594\n",
            " Sketch accuracy: 0.3196742173581064\n",
            " Mean accuracy: 0.2995555387131829\n",
            "Starting epoch 1/15, LR = [0.005]\n",
            "Starting epoch 2/15, LR = [0.005]\n",
            "Starting epoch 3/15, LR = [0.005]\n",
            "Starting epoch 4/15, LR = [0.005]\n",
            "Starting epoch 5/15, LR = [0.005]\n",
            "Starting epoch 6/15, LR = [0.005]\n",
            "Starting epoch 7/15, LR = [0.005]\n",
            "Starting epoch 8/15, LR = [0.005]\n",
            "Starting epoch 9/15, LR = [0.005]\n",
            "Starting epoch 10/15, LR = [0.005]\n",
            "Starting epoch 11/15, LR = [5e-05]\n",
            "Starting epoch 12/15, LR = [0.0005]\n",
            "Starting epoch 13/15, LR = [0.0005]\n",
            "Starting epoch 14/15, LR = [0.0005]\n",
            "Starting epoch 15/15, LR = [0.0005]\n"
          ],
          "name": "stdout"
        },
        {
          "output_type": "stream",
          "text": [
            "100%|██████████| 9/9 [00:08<00:00,  1.09it/s]\n",
            "  0%|          | 0/15 [00:00<?, ?it/s]"
          ],
          "name": "stderr"
        },
        {
          "output_type": "stream",
          "text": [
            "Test Accuracy: 0.2815699658703072\n",
            "Test Loss: 5.509434774874014\n"
          ],
          "name": "stdout"
        },
        {
          "output_type": "stream",
          "text": [
            "100%|██████████| 15/15 [00:12<00:00,  1.21it/s]\n"
          ],
          "name": "stderr"
        },
        {
          "output_type": "stream",
          "text": [
            "Test Accuracy: 0.30465767370832275\n",
            "Test Loss: 2.8746628541623584\n",
            "\n",
            "DEBUG: parameters tested (LR, WEIGHT_DECAY, STEP_SIZE): (0.005, 0.0005, 10)\n",
            "\n",
            "DEBUG:\n",
            "Cartoon accuracy: 0.2815699658703072\n",
            " Sketch accuracy: 0.30465767370832275\n",
            " Mean accuracy: 0.29311381978931494\n",
            "Starting epoch 1/15, LR = [0.005]\n",
            "Starting epoch 2/15, LR = [0.005]\n",
            "Starting epoch 3/15, LR = [0.005]\n",
            "Starting epoch 4/15, LR = [0.005]\n",
            "Starting epoch 5/15, LR = [0.005]\n",
            "Starting epoch 6/15, LR = [0.005]\n",
            "Starting epoch 7/15, LR = [0.005]\n",
            "Starting epoch 8/15, LR = [0.005]\n",
            "Starting epoch 9/15, LR = [0.005]\n",
            "Starting epoch 10/15, LR = [0.005]\n",
            "Starting epoch 11/15, LR = [0.005]\n",
            "Starting epoch 12/15, LR = [0.005]\n",
            "Starting epoch 13/15, LR = [0.005]\n",
            "Starting epoch 14/15, LR = [0.005]\n",
            "Starting epoch 15/15, LR = [5e-05]\n"
          ],
          "name": "stdout"
        },
        {
          "output_type": "stream",
          "text": [
            "100%|██████████| 9/9 [00:08<00:00,  1.10it/s]\n",
            "  0%|          | 0/15 [00:00<?, ?it/s]"
          ],
          "name": "stderr"
        },
        {
          "output_type": "stream",
          "text": [
            "Test Accuracy: 0.26493174061433444\n",
            "Test Loss: 6.806642812266691\n"
          ],
          "name": "stdout"
        },
        {
          "output_type": "stream",
          "text": [
            "100%|██████████| 15/15 [00:12<00:00,  1.23it/s]\n"
          ],
          "name": "stderr"
        },
        {
          "output_type": "stream",
          "text": [
            "Test Accuracy: 0.3003308729956732\n",
            "Test Loss: 3.109296410828336\n",
            "\n",
            "DEBUG: parameters tested (LR, WEIGHT_DECAY, STEP_SIZE): (0.005, 0.0005, 14)\n",
            "\n",
            "DEBUG:\n",
            "Cartoon accuracy: 0.26493174061433444\n",
            " Sketch accuracy: 0.3003308729956732\n",
            " Mean accuracy: 0.2826313068050038\n",
            "Starting epoch 1/15, LR = [0.001]\n",
            "Starting epoch 2/15, LR = [0.001]\n",
            "Starting epoch 3/15, LR = [0.001]\n",
            "Starting epoch 4/15, LR = [0.001]\n",
            "Starting epoch 5/15, LR = [0.001]\n",
            "Starting epoch 6/15, LR = [0.001]\n",
            "Starting epoch 7/15, LR = [0.001]\n",
            "Starting epoch 8/15, LR = [0.001]\n",
            "Starting epoch 9/15, LR = [0.001]\n",
            "Starting epoch 10/15, LR = [0.001]\n",
            "Starting epoch 11/15, LR = [1e-05]\n",
            "Starting epoch 12/15, LR = [0.0001]\n",
            "Starting epoch 13/15, LR = [0.0001]\n",
            "Starting epoch 14/15, LR = [0.0001]\n",
            "Starting epoch 15/15, LR = [0.0001]\n"
          ],
          "name": "stdout"
        },
        {
          "output_type": "stream",
          "text": [
            "100%|██████████| 9/9 [00:08<00:00,  1.08it/s]\n",
            "  0%|          | 0/15 [00:00<?, ?it/s]"
          ],
          "name": "stderr"
        },
        {
          "output_type": "stream",
          "text": [
            "Test Accuracy: 0.23506825938566553\n",
            "Test Loss: 4.067062508124134\n"
          ],
          "name": "stdout"
        },
        {
          "output_type": "stream",
          "text": [
            "100%|██████████| 15/15 [00:12<00:00,  1.20it/s]\n"
          ],
          "name": "stderr"
        },
        {
          "output_type": "stream",
          "text": [
            "Test Accuracy: 0.23593789768388904\n",
            "Test Loss: 2.8985430415758624\n",
            "\n",
            "DEBUG: parameters tested (LR, WEIGHT_DECAY, STEP_SIZE): (0.001, 5e-05, 10)\n",
            "\n",
            "DEBUG:\n",
            "Cartoon accuracy: 0.23506825938566553\n",
            " Sketch accuracy: 0.23593789768388904\n",
            " Mean accuracy: 0.23550307853477728\n",
            "Starting epoch 1/15, LR = [0.001]\n",
            "Starting epoch 2/15, LR = [0.001]\n",
            "Starting epoch 3/15, LR = [0.001]\n",
            "Starting epoch 4/15, LR = [0.001]\n",
            "Starting epoch 5/15, LR = [0.001]\n",
            "Starting epoch 6/15, LR = [0.001]\n",
            "Starting epoch 7/15, LR = [0.001]\n",
            "Starting epoch 8/15, LR = [0.001]\n",
            "Starting epoch 9/15, LR = [0.001]\n",
            "Starting epoch 10/15, LR = [0.001]\n",
            "Starting epoch 11/15, LR = [0.001]\n",
            "Starting epoch 12/15, LR = [0.001]\n",
            "Starting epoch 13/15, LR = [0.001]\n",
            "Starting epoch 14/15, LR = [0.001]\n",
            "Starting epoch 15/15, LR = [1e-05]\n"
          ],
          "name": "stdout"
        },
        {
          "output_type": "stream",
          "text": [
            "100%|██████████| 9/9 [00:08<00:00,  1.07it/s]\n",
            "  0%|          | 0/15 [00:00<?, ?it/s]"
          ],
          "name": "stderr"
        },
        {
          "output_type": "stream",
          "text": [
            "Test Accuracy: 0.2150170648464164\n",
            "Test Loss: 4.395425894154624\n"
          ],
          "name": "stdout"
        },
        {
          "output_type": "stream",
          "text": [
            "100%|██████████| 15/15 [00:12<00:00,  1.16it/s]\n"
          ],
          "name": "stderr"
        },
        {
          "output_type": "stream",
          "text": [
            "Test Accuracy: 0.20386866887248664\n",
            "Test Loss: 2.4595300718614785\n",
            "\n",
            "DEBUG: parameters tested (LR, WEIGHT_DECAY, STEP_SIZE): (0.001, 5e-05, 14)\n",
            "\n",
            "DEBUG:\n",
            "Cartoon accuracy: 0.2150170648464164\n",
            " Sketch accuracy: 0.20386866887248664\n",
            " Mean accuracy: 0.20944286685945152\n",
            "Starting epoch 1/15, LR = [0.001]\n",
            "Starting epoch 2/15, LR = [0.001]\n",
            "Starting epoch 3/15, LR = [0.001]\n",
            "Starting epoch 4/15, LR = [0.001]\n",
            "Starting epoch 5/15, LR = [0.001]\n",
            "Starting epoch 6/15, LR = [0.001]\n",
            "Starting epoch 7/15, LR = [0.001]\n",
            "Starting epoch 8/15, LR = [0.001]\n",
            "Starting epoch 9/15, LR = [0.001]\n",
            "Starting epoch 10/15, LR = [0.001]\n",
            "Starting epoch 11/15, LR = [1e-05]\n",
            "Starting epoch 12/15, LR = [0.0001]\n",
            "Starting epoch 13/15, LR = [0.0001]\n",
            "Starting epoch 14/15, LR = [0.0001]\n",
            "Starting epoch 15/15, LR = [0.0001]\n"
          ],
          "name": "stdout"
        },
        {
          "output_type": "stream",
          "text": [
            "100%|██████████| 9/9 [00:08<00:00,  1.07it/s]\n",
            "  0%|          | 0/15 [00:00<?, ?it/s]"
          ],
          "name": "stderr"
        },
        {
          "output_type": "stream",
          "text": [
            "Test Accuracy: 0.2930887372013652\n",
            "Test Loss: 3.6695699594126627\n"
          ],
          "name": "stdout"
        },
        {
          "output_type": "stream",
          "text": [
            "100%|██████████| 15/15 [00:12<00:00,  1.18it/s]\n"
          ],
          "name": "stderr"
        },
        {
          "output_type": "stream",
          "text": [
            "Test Accuracy: 0.24051921608551793\n",
            "Test Loss: 2.231752336889953\n",
            "\n",
            "DEBUG: parameters tested (LR, WEIGHT_DECAY, STEP_SIZE): (0.001, 0.0005, 10)\n",
            "\n",
            "DEBUG:\n",
            "Cartoon accuracy: 0.2930887372013652\n",
            " Sketch accuracy: 0.24051921608551793\n",
            " Mean accuracy: 0.2668039766434416\n",
            "Starting epoch 1/15, LR = [0.001]\n",
            "Starting epoch 2/15, LR = [0.001]\n",
            "Starting epoch 3/15, LR = [0.001]\n",
            "Starting epoch 4/15, LR = [0.001]\n",
            "Starting epoch 5/15, LR = [0.001]\n",
            "Starting epoch 6/15, LR = [0.001]\n",
            "Starting epoch 7/15, LR = [0.001]\n",
            "Starting epoch 8/15, LR = [0.001]\n",
            "Starting epoch 9/15, LR = [0.001]\n",
            "Starting epoch 10/15, LR = [0.001]\n",
            "Starting epoch 11/15, LR = [0.001]\n",
            "Starting epoch 12/15, LR = [0.001]\n",
            "Starting epoch 13/15, LR = [0.001]\n",
            "Starting epoch 14/15, LR = [0.001]\n",
            "Starting epoch 15/15, LR = [1e-05]\n"
          ],
          "name": "stdout"
        },
        {
          "output_type": "stream",
          "text": [
            "100%|██████████| 9/9 [00:08<00:00,  1.08it/s]\n",
            "  0%|          | 0/15 [00:00<?, ?it/s]"
          ],
          "name": "stderr"
        },
        {
          "output_type": "stream",
          "text": [
            "Test Accuracy: 0.21715017064846417\n",
            "Test Loss: 4.602202431740614\n"
          ],
          "name": "stdout"
        },
        {
          "output_type": "stream",
          "text": [
            "100%|██████████| 15/15 [00:12<00:00,  1.19it/s]"
          ],
          "name": "stderr"
        },
        {
          "output_type": "stream",
          "text": [
            "Test Accuracy: 0.18376177144311528\n",
            "Test Loss: 3.015196837369162\n",
            "\n",
            "DEBUG: parameters tested (LR, WEIGHT_DECAY, STEP_SIZE): (0.001, 0.0005, 14)\n",
            "\n",
            "DEBUG:\n",
            "Cartoon accuracy: 0.21715017064846417\n",
            " Sketch accuracy: 0.18376177144311528\n",
            " Mean accuracy: 0.20045597104578972\n"
          ],
          "name": "stdout"
        },
        {
          "output_type": "stream",
          "text": [
            "\n"
          ],
          "name": "stderr"
        }
      ]
    },
    {
      "cell_type": "code",
      "metadata": {
        "id": "nB3HhZ3F_M2U",
        "colab_type": "code",
        "outputId": "01b4a3f8-4256-4ada-c8fd-1d2e7a6efdfa",
        "colab": {
          "base_uri": "https://localhost:8080/",
          "height": 1000
        }
      },
      "source": [
        "# show lineplots\n",
        "outputAccuracies(steps, accuraciesMean, accuraciesSketch, accuraciesCartoon)\n",
        "outputLosses(steps, lossesMean, lossesSketch, lossesCartoon)\n",
        "\n",
        "# now 3a again -- test the model with the largest mean accuracy\n",
        "print(\"\\nDEBUG BEST MODEL:\\n LR, WEIGHT_DECAY, STEP_SIZE: {}\\n Accuracy mean: {} \".format(best_hparameters, best_Accuracy))\n",
        "target_dataloader = art_dataloader\n",
        "bestnet, optimizer, criterion = instantiateNewNet(NUM_EPOCHS, train_dataloader, test_dataloader, target_dataloader, DOMAIN_ADAPTATION)\n",
        "finalAccuracy = test(bestnet, target_dataloader, art_dataset, optimizer, criterion)\n",
        "print(\"Final accuracy on art: {}\".format(finalAccuracy))"
      ],
      "execution_count": 0,
      "outputs": [
        {
          "output_type": "display_data",
          "data": {
            "image/png": "[encoded data removed]",
            "text/plain": [
              "<Figure size 432x288 with 1 Axes>"
            ]
          },
          "metadata": {
            "tags": []
          }
        },
        {
          "output_type": "display_data",
          "data": {
            "image/png": "[encoded data removed]",
            "text/plain": [
              "<Figure size 432x288 with 1 Axes>"
            ]
          },
          "metadata": {
            "tags": []
          }
        },
        {
          "output_type": "stream",
          "text": [
            "[0, 1, 2, 3, 4, 5, 6, 7, 8, 9, 10, 11]\n",
            "[0.24901917308679572, 0.29368708179399355, 0.2177110542331156, 0.2887203493407297, 0.28177078944785294, 0.2995555387131829, 0.29311381978931494, 0.2826313068050038, 0.23550307853477728, 0.20944286685945152, 0.2668039766434416, 0.20045597104578972]\n",
            "[0.26851616187325017, 0.3130567574446424, 0.22168490710104352, 0.30440315601934337, 0.302876049885467, 0.3196742173581064, 0.30465767370832275, 0.3003308729956732, 0.23593789768388904, 0.20386866887248664, 0.24051921608551793, 0.18376177144311528]\n",
            "[0.2295221843003413, 0.2743174061433447, 0.2137372013651877, 0.27303754266211605, 0.2606655290102389, 0.2794368600682594, 0.2815699658703072, 0.26493174061433444, 0.23506825938566553, 0.2150170648464164, 0.2930887372013652, 0.21715017064846417]\n",
            "[5.245283337390499, 5.507175973773633, 6.4053373674331615, 5.836549268107232, 4.443372793689887, 4.502501309884299, 4.192048814518186, 4.957969611547513, 3.482802774849998, 3.427477983008051, 2.950661148151308, 3.808699634554888]\n",
            "[3.600012604715139, 3.707729185225248, 4.396588487399386, 4.077380725280964, 2.6039981429405143, 2.7558708084118098, 2.8746628541623584, 3.109296410828336, 2.8985430415758624, 2.4595300718614785, 2.231752336889953, 3.015196837369162]\n",
            "[6.89055407006586, 7.306622762322019, 8.414086247466937, 7.5957178109335, 6.28274744443926, 6.249131811356788, 5.509434774874014, 6.806642812266691, 4.067062508124134, 4.395425894154624, 3.6695699594126627, 4.602202431740614]\n",
            "\n",
            "DEBUG BEST MODEL:\n",
            " LR, WEIGHT_DECAY, STEP_SIZE: (0.005, 5e-05, 14)\n",
            " Accuracy mean: 0.2995555387131829 \n",
            "Starting epoch 1/15, LR = [0.001]\n"
          ],
          "name": "stdout"
        },
        {
          "output_type": "stream",
          "text": [
            "/usr/local/lib/python3.6/dist-packages/torch/optim/lr_scheduler.py:351: UserWarning: To get the last learning rate computed by the scheduler, please use `get_last_lr()`.\n",
            "  \"please use `get_last_lr()`.\", UserWarning)\n"
          ],
          "name": "stderr"
        },
        {
          "output_type": "stream",
          "text": [
            "Starting epoch 2/15, LR = [0.001]\n",
            "Starting epoch 3/15, LR = [0.001]\n",
            "Starting epoch 4/15, LR = [0.001]\n",
            "Starting epoch 5/15, LR = [0.001]\n",
            "Starting epoch 6/15, LR = [0.001]\n",
            "Starting epoch 7/15, LR = [0.001]\n",
            "Starting epoch 8/15, LR = [0.001]\n",
            "Starting epoch 9/15, LR = [0.001]\n",
            "Starting epoch 10/15, LR = [0.001]\n",
            "Starting epoch 11/15, LR = [0.001]\n",
            "Starting epoch 12/15, LR = [0.001]\n",
            "Starting epoch 13/15, LR = [0.001]\n",
            "Starting epoch 14/15, LR = [0.001]\n",
            "Starting epoch 15/15, LR = [1e-05]\n"
          ],
          "name": "stdout"
        },
        {
          "output_type": "stream",
          "text": [
            "100%|██████████| 8/8 [00:07<00:00,  1.04it/s]"
          ],
          "name": "stderr"
        },
        {
          "output_type": "stream",
          "text": [
            "Test Accuracy: 0.466796875\n",
            "Test Loss: 2.554388999938965\n",
            "Final accuracy on art: (0.466796875, 2.554388999938965)\n"
          ],
          "name": "stdout"
        },
        {
          "output_type": "stream",
          "text": [
            "\n"
          ],
          "name": "stderr"
        }
      ]
    },
    {
      "cell_type": "markdown",
      "metadata": {
        "id": "NA2YIQ1-2p4a",
        "colab_type": "text"
      },
      "source": [
        "**Point 4b**"
      ]
    },
    {
      "cell_type": "code",
      "metadata": {
        "id": "QZ5UDSWpCU7A",
        "colab_type": "code",
        "outputId": "edbc0266-7f6a-4f3a-ed7b-275d5fffbc3f",
        "colab": {
          "base_uri": "https://localhost:8080/",
          "height": 1000,
          "referenced_widgets": [
            "066802c326754163b4c06b9faf4d69a9",
            "92cfccf450634686b592260ba5ada1a3",
            "299e5e777a224f61a891f640cf99df40",
            "777797c8be76425c925e9c6600b599a0",
            "dfc6184977734e7d984115452b8ac9e5",
            "08725a6ccf0440f69847dfa4b236aeb8",
            "039f6125adec4a7fa341532800323a0b",
            "6256207c38f84d53ac18703b8f54ec82"
          ]
        }
      },
      "source": [
        "# 4B => find the best parameters!\n",
        "#DOMAIN_ADAPTATION = True\n",
        "#training(net, NUM_EPOCHS, scheduler, optimizer, train_dataloader,test_dataloader, target_dataloader, DOMAIN_ADAPTATION)\n",
        "# now 3b again\"\"\"\n",
        "\n",
        "\n",
        "LRs = [0.005] #0.01\n",
        "ALPHAs = [0.1, 0.5, 0.8]\n",
        "WEIGHT_DECAYs = [5e-5, 5e-4]\n",
        "STEP_SIZE = 10\n",
        "\n",
        "best_Accuracy = -1 # i will test the best scoring net, in terms of accuracy, on art\n",
        "best_hparameters = (0, 0, 0)\n",
        "\n",
        "accuraciesCartoon = []\n",
        "accuraciesSketch = []\n",
        "accuraciesMean = []\n",
        "\n",
        "lossesCartoon = []\n",
        "lossesSketch = []\n",
        "lossesMean = []\n",
        "\n",
        "\n",
        "steps = []\n",
        "step = 0\n",
        "for LR in LRs:\n",
        "  for WEIGHT_DECAY in WEIGHT_DECAYs:\n",
        "    for ALPHA in ALPHAs:\n",
        "      # 4A  => find the best parameters!\n",
        "      # without domain adaptation i do not need to train 2 nets,\n",
        "      # yet i just have to test the same net against the 2 targets \n",
        "      # => target dataloader is not actually used if not in the test!\n",
        "      DOMAIN_ADAPTATION = True\n",
        "\n",
        "      target_dataloader = cartoon_dataloader\n",
        "      bestnet, optimizer, criterion = instantiateNewNet(NUM_EPOCHS, train_dataloader, test_dataloader, target_dataloader, DOMAIN_ADAPTATION)\n",
        "      cartoonAccuracy, cartoonLoss = test(bestnet, target_dataloader, cartoon_dataset, optimizer, criterion)\n",
        "      target_dataloader = sketch_dataloader\n",
        "      bestnet, optimizer, criterion = instantiateNewNet(NUM_EPOCHS, train_dataloader, test_dataloader, target_dataloader, DOMAIN_ADAPTATION)\n",
        "      sketchAccuracy, sketchLoss = test(bestnet, target_dataloader, sketch_dataset, optimizer, criterion)\n",
        "      meanAccuracy = (cartoonAccuracy + sketchAccuracy)/2\n",
        "      meanLoss = (cartoonLoss + sketchLoss)/2\n",
        "      if meanAccuracy > best_Accuracy:\n",
        "        best_Accuracy = meanAccuracy\n",
        "        best_hparameters = (LR, WEIGHT_DECAY, ALPHA)\n",
        "      print(\"\\nDEBUG: parameters tested (LR, WEIGHT_DECAY, ALPHA): {}\".format((LR, WEIGHT_DECAY,ALPHA)))\n",
        "      print(\"\\nDEBUG:\\nCartoon accuracy: {}\\n Sketch accuracy: {}\\n Mean accuracy: {}\".format(cartoonAccuracy, sketchAccuracy, meanAccuracy))\n",
        "\n",
        "      steps.append(step)\n",
        "      accuraciesMean.append(meanAccuracy)\n",
        "      accuraciesSketch.append(sketchAccuracy)\n",
        "      accuraciesCartoon.append(cartoonAccuracy)\n",
        "\n",
        "      lossesMean.append(meanLoss)\n",
        "      lossesSketch.append(sketchLoss)\n",
        "      lossesCartoon.append(cartoonLoss)\n",
        "      step = step + 1"
      ],
      "execution_count": 0,
      "outputs": [
        {
          "output_type": "stream",
          "text": [
            "Downloading: \"https://download.pytorch.org/models/alexnet-owt-4df8aa71.pth\" to /root/.cache/torch/checkpoints/alexnet-owt-4df8aa71.pth\n"
          ],
          "name": "stderr"
        },
        {
          "output_type": "display_data",
          "data": {
            "application/vnd.jupyter.widget-view+json": {
              "model_id": "066802c326754163b4c06b9faf4d69a9",
              "version_minor": 0,
              "version_major": 2
            },
            "text/plain": [
              "HBox(children=(FloatProgress(value=0.0, max=244418560.0), HTML(value='')))"
            ]
          },
          "metadata": {
            "tags": []
          }
        },
        {
          "output_type": "stream",
          "text": [
            "\n",
            "Starting epoch 1/15, LR = [0.005]\n"
          ],
          "name": "stdout"
        },
        {
          "output_type": "stream",
          "text": [
            "/usr/local/lib/python3.6/dist-packages/torch/optim/lr_scheduler.py:351: UserWarning: To get the last learning rate computed by the scheduler, please use `get_last_lr()`.\n",
            "  \"please use `get_last_lr()`.\", UserWarning)\n"
          ],
          "name": "stderr"
        },
        {
          "output_type": "stream",
          "text": [
            "Starting epoch 2/15, LR = [0.005]\n",
            "Starting epoch 3/15, LR = [0.005]\n",
            "Starting epoch 4/15, LR = [0.005]\n",
            "Starting epoch 5/15, LR = [0.005]\n",
            "Starting epoch 6/15, LR = [0.005]\n",
            "Starting epoch 7/15, LR = [0.005]\n",
            "Starting epoch 8/15, LR = [0.005]\n",
            "Starting epoch 9/15, LR = [0.005]\n",
            "Starting epoch 10/15, LR = [0.005]\n",
            "Starting epoch 11/15, LR = [5e-05]\n",
            "Starting epoch 12/15, LR = [0.0005]\n",
            "Starting epoch 13/15, LR = [0.0005]\n",
            "Starting epoch 14/15, LR = [0.0005]\n",
            "Starting epoch 15/15, LR = [0.0005]\n"
          ],
          "name": "stdout"
        },
        {
          "output_type": "stream",
          "text": [
            "100%|██████████| 9/9 [00:07<00:00,  1.20it/s]\n"
          ],
          "name": "stderr"
        },
        {
          "output_type": "stream",
          "text": [
            "Test Accuracy: 0.5149317406143344\n",
            "Test Loss: 6.563478853922248\n",
            "Starting epoch 1/15, LR = [0.005]\n",
            "Starting epoch 2/15, LR = [0.005]\n",
            "Starting epoch 3/15, LR = [0.005]\n",
            "Starting epoch 4/15, LR = [0.005]\n",
            "Starting epoch 5/15, LR = [0.005]\n",
            "Starting epoch 6/15, LR = [0.005]\n",
            "Starting epoch 7/15, LR = [0.005]\n",
            "Starting epoch 8/15, LR = [0.005]\n",
            "Starting epoch 9/15, LR = [0.005]\n",
            "Starting epoch 10/15, LR = [0.005]\n",
            "Starting epoch 11/15, LR = [5e-05]\n",
            "Starting epoch 12/15, LR = [0.0005]\n",
            "Starting epoch 13/15, LR = [0.0005]\n",
            "Starting epoch 14/15, LR = [0.0005]\n",
            "Starting epoch 15/15, LR = [0.0005]\n"
          ],
          "name": "stdout"
        },
        {
          "output_type": "stream",
          "text": [
            "100%|██████████| 15/15 [00:10<00:00,  1.47it/s]\n"
          ],
          "name": "stderr"
        },
        {
          "output_type": "stream",
          "text": [
            "Test Accuracy: 0.38788495800458134\n",
            "Test Loss: 2.061638090075898\n",
            "\n",
            "DEBUG: parameters tested (LR, WEIGHT_DECAY, ALPHA): (0.005, 5e-05, 0.1)\n",
            "\n",
            "DEBUG:\n",
            "Cartoon accuracy: 0.5149317406143344\n",
            " Sketch accuracy: 0.38788495800458134\n",
            " Mean accuracy: 0.4514083493094579\n",
            "Starting epoch 1/15, LR = [0.005]\n",
            "Starting epoch 2/15, LR = [0.005]\n",
            "Starting epoch 3/15, LR = [0.005]\n",
            "Starting epoch 4/15, LR = [0.005]\n",
            "Starting epoch 5/15, LR = [0.005]\n",
            "Starting epoch 6/15, LR = [0.005]\n",
            "Starting epoch 7/15, LR = [0.005]\n",
            "Starting epoch 8/15, LR = [0.005]\n",
            "Starting epoch 9/15, LR = [0.005]\n",
            "Starting epoch 10/15, LR = [0.005]\n",
            "Starting epoch 11/15, LR = [5e-05]\n",
            "Starting epoch 12/15, LR = [0.0005]\n",
            "Starting epoch 13/15, LR = [0.0005]\n",
            "Starting epoch 14/15, LR = [0.0005]\n",
            "Starting epoch 15/15, LR = [0.0005]\n"
          ],
          "name": "stdout"
        },
        {
          "output_type": "stream",
          "text": [
            "100%|██████████| 9/9 [00:06<00:00,  1.29it/s]\n"
          ],
          "name": "stderr"
        },
        {
          "output_type": "stream",
          "text": [
            "Test Accuracy: 0.11006825938566553\n",
            "Test Loss: 3.8251456563383237\n",
            "Starting epoch 1/15, LR = [0.005]\n",
            "Starting epoch 2/15, LR = [0.005]\n",
            "Starting epoch 3/15, LR = [0.005]\n",
            "Starting epoch 4/15, LR = [0.005]\n",
            "Starting epoch 5/15, LR = [0.005]\n",
            "Starting epoch 6/15, LR = [0.005]\n",
            "Starting epoch 7/15, LR = [0.005]\n",
            "Starting epoch 8/15, LR = [0.005]\n",
            "Starting epoch 9/15, LR = [0.005]\n",
            "Starting epoch 10/15, LR = [0.005]\n",
            "Starting epoch 11/15, LR = [5e-05]\n",
            "Starting epoch 12/15, LR = [0.0005]\n",
            "Starting epoch 13/15, LR = [0.0005]\n",
            "Starting epoch 14/15, LR = [0.0005]\n",
            "Starting epoch 15/15, LR = [0.0005]\n"
          ],
          "name": "stdout"
        },
        {
          "output_type": "stream",
          "text": [
            "100%|██████████| 15/15 [00:10<00:00,  1.45it/s]\n"
          ],
          "name": "stderr"
        },
        {
          "output_type": "stream",
          "text": [
            "Test Accuracy: 0.15118350725375412\n",
            "Test Loss: 2.962440512082631\n",
            "\n",
            "DEBUG: parameters tested (LR, WEIGHT_DECAY, ALPHA): (0.005, 5e-05, 0.5)\n",
            "\n",
            "DEBUG:\n",
            "Cartoon accuracy: 0.11006825938566553\n",
            " Sketch accuracy: 0.15118350725375412\n",
            " Mean accuracy: 0.1306258833197098\n",
            "Starting epoch 1/15, LR = [0.005]\n",
            "Starting epoch 2/15, LR = [0.005]\n",
            "Starting epoch 3/15, LR = [0.005]\n",
            "Starting epoch 4/15, LR = [0.005]\n",
            "Starting epoch 5/15, LR = [0.005]\n",
            "Starting epoch 6/15, LR = [0.005]\n",
            "Starting epoch 7/15, LR = [0.005]\n",
            "Starting epoch 8/15, LR = [0.005]\n",
            "Starting epoch 9/15, LR = [0.005]\n",
            "Starting epoch 10/15, LR = [0.005]\n",
            "Starting epoch 11/15, LR = [5e-05]\n",
            "Starting epoch 12/15, LR = [0.0005]\n",
            "Starting epoch 13/15, LR = [0.0005]\n",
            "Starting epoch 14/15, LR = [0.0005]\n",
            "Starting epoch 15/15, LR = [0.0005]\n"
          ],
          "name": "stdout"
        },
        {
          "output_type": "stream",
          "text": [
            "100%|██████████| 9/9 [00:06<00:00,  1.29it/s]\n"
          ],
          "name": "stderr"
        },
        {
          "output_type": "stream",
          "text": [
            "Test Accuracy: 0.11646757679180887\n",
            "Test Loss: 2.8019139677184435\n",
            "Starting epoch 1/15, LR = [0.005]\n",
            "Starting epoch 2/15, LR = [0.005]\n",
            "Starting epoch 3/15, LR = [0.005]\n",
            "Starting epoch 4/15, LR = [0.005]\n",
            "Starting epoch 5/15, LR = [0.005]\n",
            "Starting epoch 6/15, LR = [0.005]\n",
            "Starting epoch 7/15, LR = [0.005]\n",
            "Starting epoch 8/15, LR = [0.005]\n",
            "Starting epoch 9/15, LR = [0.005]\n",
            "Starting epoch 10/15, LR = [0.005]\n",
            "Starting epoch 11/15, LR = [5e-05]\n",
            "Starting epoch 12/15, LR = [0.0005]\n",
            "Starting epoch 13/15, LR = [0.0005]\n",
            "Starting epoch 14/15, LR = [0.0005]\n",
            "Starting epoch 15/15, LR = [0.0005]\n"
          ],
          "name": "stdout"
        },
        {
          "output_type": "stream",
          "text": [
            "100%|██████████| 15/15 [00:10<00:00,  1.44it/s]\n"
          ],
          "name": "stderr"
        },
        {
          "output_type": "stream",
          "text": [
            "Test Accuracy: 0.23237465003817764\n",
            "Test Loss: 2.116078785279532\n",
            "\n",
            "DEBUG: parameters tested (LR, WEIGHT_DECAY, ALPHA): (0.005, 5e-05, 0.8)\n",
            "\n",
            "DEBUG:\n",
            "Cartoon accuracy: 0.11646757679180887\n",
            " Sketch accuracy: 0.23237465003817764\n",
            " Mean accuracy: 0.17442111341499325\n",
            "Starting epoch 1/15, LR = [0.005]\n",
            "Starting epoch 2/15, LR = [0.005]\n",
            "Starting epoch 3/15, LR = [0.005]\n",
            "Starting epoch 4/15, LR = [0.005]\n",
            "Starting epoch 5/15, LR = [0.005]\n",
            "Starting epoch 6/15, LR = [0.005]\n",
            "Starting epoch 7/15, LR = [0.005]\n",
            "Starting epoch 8/15, LR = [0.005]\n",
            "Starting epoch 9/15, LR = [0.005]\n",
            "Starting epoch 10/15, LR = [0.005]\n",
            "Starting epoch 11/15, LR = [5e-05]\n",
            "Starting epoch 12/15, LR = [0.0005]\n",
            "Starting epoch 13/15, LR = [0.0005]\n",
            "Starting epoch 14/15, LR = [0.0005]\n",
            "Starting epoch 15/15, LR = [0.0005]\n"
          ],
          "name": "stdout"
        },
        {
          "output_type": "stream",
          "text": [
            "100%|██████████| 9/9 [00:06<00:00,  1.29it/s]\n"
          ],
          "name": "stderr"
        },
        {
          "output_type": "stream",
          "text": [
            "Test Accuracy: 0.5179180887372014\n",
            "Test Loss: 4.416987656733282\n",
            "Starting epoch 1/15, LR = [0.005]\n",
            "Starting epoch 2/15, LR = [0.005]\n",
            "Starting epoch 3/15, LR = [0.005]\n",
            "Starting epoch 4/15, LR = [0.005]\n",
            "Starting epoch 5/15, LR = [0.005]\n",
            "Starting epoch 6/15, LR = [0.005]\n",
            "Starting epoch 7/15, LR = [0.005]\n",
            "Starting epoch 8/15, LR = [0.005]\n",
            "Starting epoch 9/15, LR = [0.005]\n",
            "Starting epoch 10/15, LR = [0.005]\n",
            "Starting epoch 11/15, LR = [5e-05]\n",
            "Starting epoch 12/15, LR = [0.0005]\n",
            "Starting epoch 13/15, LR = [0.0005]\n",
            "Starting epoch 14/15, LR = [0.0005]\n",
            "Starting epoch 15/15, LR = [0.0005]\n"
          ],
          "name": "stdout"
        },
        {
          "output_type": "stream",
          "text": [
            "100%|██████████| 15/15 [00:10<00:00,  1.43it/s]\n"
          ],
          "name": "stderr"
        },
        {
          "output_type": "stream",
          "text": [
            "Test Accuracy: 0.19216085517943496\n",
            "Test Loss: 7.944144645335566\n",
            "\n",
            "DEBUG: parameters tested (LR, WEIGHT_DECAY, ALPHA): (0.005, 0.0005, 0.1)\n",
            "\n",
            "DEBUG:\n",
            "Cartoon accuracy: 0.5179180887372014\n",
            " Sketch accuracy: 0.19216085517943496\n",
            " Mean accuracy: 0.35503947195831814\n",
            "Starting epoch 1/15, LR = [0.005]\n",
            "Starting epoch 2/15, LR = [0.005]\n",
            "Starting epoch 3/15, LR = [0.005]\n",
            "Starting epoch 4/15, LR = [0.005]\n",
            "Starting epoch 5/15, LR = [0.005]\n",
            "Starting epoch 6/15, LR = [0.005]\n",
            "Starting epoch 7/15, LR = [0.005]\n",
            "Starting epoch 8/15, LR = [0.005]\n",
            "Starting epoch 9/15, LR = [0.005]\n",
            "Starting epoch 10/15, LR = [0.005]\n",
            "Starting epoch 11/15, LR = [5e-05]\n",
            "Starting epoch 12/15, LR = [0.0005]\n",
            "Starting epoch 13/15, LR = [0.0005]\n",
            "Starting epoch 14/15, LR = [0.0005]\n",
            "Starting epoch 15/15, LR = [0.0005]\n"
          ],
          "name": "stdout"
        },
        {
          "output_type": "stream",
          "text": [
            "100%|██████████| 9/9 [00:07<00:00,  1.28it/s]\n"
          ],
          "name": "stderr"
        },
        {
          "output_type": "stream",
          "text": [
            "Test Accuracy: 0.1296928327645051\n",
            "Test Loss: 3.2522219765308367\n",
            "Starting epoch 1/15, LR = [0.005]\n",
            "Starting epoch 2/15, LR = [0.005]\n",
            "Starting epoch 3/15, LR = [0.005]\n",
            "Starting epoch 4/15, LR = [0.005]\n",
            "Starting epoch 5/15, LR = [0.005]\n"
          ],
          "name": "stdout"
        },
        {
          "output_type": "stream",
          "text": [
            "Traceback (most recent call last):\n",
            "  File \"/usr/lib/python3.6/multiprocessing/util.py\", line 262, in _run_finalizers\n",
            "    finalizer()\n",
            "  File \"/usr/lib/python3.6/multiprocessing/util.py\", line 186, in __call__\n",
            "    res = self._callback(*self._args, **self._kwargs)\n",
            "  File \"/usr/lib/python3.6/shutil.py\", line 490, in rmtree\n",
            "    onerror(os.rmdir, path, sys.exc_info())\n",
            "  File \"/usr/lib/python3.6/shutil.py\", line 488, in rmtree\n",
            "    os.rmdir(path)\n",
            "OSError: [Errno 39] Directory not empty: '/tmp/pymp-zkopm66v'\n"
          ],
          "name": "stderr"
        },
        {
          "output_type": "stream",
          "text": [
            "Starting epoch 6/15, LR = [0.005]\n",
            "Starting epoch 7/15, LR = [0.005]\n",
            "Starting epoch 8/15, LR = [0.005]\n",
            "Starting epoch 9/15, LR = [0.005]\n",
            "Starting epoch 10/15, LR = [0.005]\n",
            "Starting epoch 11/15, LR = [5e-05]\n",
            "Starting epoch 12/15, LR = [0.0005]\n"
          ],
          "name": "stdout"
        },
        {
          "output_type": "stream",
          "text": [
            "Traceback (most recent call last):\n",
            "  File \"/usr/lib/python3.6/multiprocessing/util.py\", line 262, in _run_finalizers\n",
            "    finalizer()\n",
            "  File \"/usr/lib/python3.6/multiprocessing/util.py\", line 186, in __call__\n",
            "    res = self._callback(*self._args, **self._kwargs)\n",
            "  File \"/usr/lib/python3.6/shutil.py\", line 490, in rmtree\n",
            "    onerror(os.rmdir, path, sys.exc_info())\n",
            "  File \"/usr/lib/python3.6/shutil.py\", line 488, in rmtree\n",
            "    os.rmdir(path)\n",
            "OSError: [Errno 39] Directory not empty: '/tmp/pymp-4_tq2o0w'\n"
          ],
          "name": "stderr"
        },
        {
          "output_type": "stream",
          "text": [
            "Starting epoch 13/15, LR = [0.0005]\n",
            "Starting epoch 14/15, LR = [0.0005]\n",
            "Starting epoch 15/15, LR = [0.0005]\n"
          ],
          "name": "stdout"
        },
        {
          "output_type": "stream",
          "text": [
            "100%|██████████| 15/15 [00:10<00:00,  1.43it/s]\n"
          ],
          "name": "stderr"
        },
        {
          "output_type": "stream",
          "text": [
            "Test Accuracy: 0.2028505981165691\n",
            "Test Loss: 1.7884713724145576\n",
            "\n",
            "DEBUG: parameters tested (LR, WEIGHT_DECAY, ALPHA): (0.005, 0.0005, 0.5)\n",
            "\n",
            "DEBUG:\n",
            "Cartoon accuracy: 0.1296928327645051\n",
            " Sketch accuracy: 0.2028505981165691\n",
            " Mean accuracy: 0.1662717154405371\n",
            "Starting epoch 1/15, LR = [0.005]\n",
            "Starting epoch 2/15, LR = [0.005]\n",
            "Starting epoch 3/15, LR = [0.005]\n",
            "Starting epoch 4/15, LR = [0.005]\n",
            "Starting epoch 5/15, LR = [0.005]\n",
            "Starting epoch 6/15, LR = [0.005]\n",
            "Starting epoch 7/15, LR = [0.005]\n",
            "Starting epoch 8/15, LR = [0.005]\n",
            "Starting epoch 9/15, LR = [0.005]\n",
            "Starting epoch 10/15, LR = [0.005]\n",
            "Starting epoch 11/15, LR = [5e-05]\n",
            "Starting epoch 12/15, LR = [0.0005]\n",
            "Starting epoch 13/15, LR = [0.0005]\n",
            "Starting epoch 14/15, LR = [0.0005]\n",
            "Starting epoch 15/15, LR = [0.0005]\n"
          ],
          "name": "stdout"
        },
        {
          "output_type": "stream",
          "text": [
            "100%|██████████| 9/9 [00:07<00:00,  1.27it/s]\n"
          ],
          "name": "stderr"
        },
        {
          "output_type": "stream",
          "text": [
            "Test Accuracy: 0.14462457337883958\n",
            "Test Loss: 3.1569836196639027\n",
            "Starting epoch 1/15, LR = [0.005]\n",
            "Starting epoch 2/15, LR = [0.005]\n",
            "Starting epoch 3/15, LR = [0.005]\n",
            "Starting epoch 4/15, LR = [0.005]\n",
            "Starting epoch 5/15, LR = [0.005]\n",
            "Starting epoch 6/15, LR = [0.005]\n",
            "Starting epoch 7/15, LR = [0.005]\n",
            "Starting epoch 8/15, LR = [0.005]\n",
            "Starting epoch 9/15, LR = [0.005]\n",
            "Starting epoch 10/15, LR = [0.005]\n",
            "Starting epoch 11/15, LR = [5e-05]\n",
            "Starting epoch 12/15, LR = [0.0005]\n",
            "Starting epoch 13/15, LR = [0.0005]\n",
            "Starting epoch 14/15, LR = [0.0005]\n",
            "Starting epoch 15/15, LR = [0.0005]\n"
          ],
          "name": "stdout"
        },
        {
          "output_type": "stream",
          "text": [
            "100%|██████████| 15/15 [00:10<00:00,  1.42it/s]"
          ],
          "name": "stderr"
        },
        {
          "output_type": "stream",
          "text": [
            "Test Accuracy: 0.21354034105370323\n",
            "Test Loss: 2.093667868956199\n",
            "\n",
            "DEBUG: parameters tested (LR, WEIGHT_DECAY, ALPHA): (0.005, 0.0005, 0.8)\n",
            "\n",
            "DEBUG:\n",
            "Cartoon accuracy: 0.14462457337883958\n",
            " Sketch accuracy: 0.21354034105370323\n",
            " Mean accuracy: 0.17908245721627142\n"
          ],
          "name": "stdout"
        },
        {
          "output_type": "stream",
          "text": [
            "\n"
          ],
          "name": "stderr"
        }
      ]
    },
    {
      "cell_type": "code",
      "metadata": {
        "id": "df6kM26EoZMS",
        "colab_type": "code",
        "outputId": "db8f5a29-8847-45eb-d26e-4b3cfaeffd75",
        "colab": {
          "base_uri": "https://localhost:8080/",
          "height": 553
        }
      },
      "source": [
        "# show lineplots\n",
        "outputAccuracies(steps, accuraciesMean, accuraciesSketch, accuraciesCartoon)\n",
        "outputLosses(steps, lossesMean, lossesSketch, lossesCartoon)"
      ],
      "execution_count": 0,
      "outputs": [
        {
          "output_type": "display_data",
          "data": {
            "image/png": "[encoded data removed]",
            "text/plain": [
              "<Figure size 432x288 with 1 Axes>"
            ]
          },
          "metadata": {
            "tags": []
          }
        },
        {
          "output_type": "display_data",
          "data": {
            "image/png": "[encoded data removed]",
            "text/plain": [
              "<Figure size 432x288 with 1 Axes>"
            ]
          },
          "metadata": {
            "tags": []
          }
        }
      ]
    },
    {
      "cell_type": "code",
      "metadata": {
        "id": "VSt0I1ilV9GN",
        "colab_type": "code",
        "colab": {}
      },
      "source": [
        "# now 3a again -- test the model with the largest mean accuracy\n",
        "print(\"\\nDEBUG BEST MODEL:\\n LR, WEIGHT_DECAY, ALPHA: {}\\n Accuracy mean: {} \".format(best_hparameters, best_Accuracy))\n",
        "\n",
        "LR = best_hparameters[0]\n",
        "WEIGHT_DECAY = best_hparameters[1]\n",
        "ALPHA = best_hparameters[2]\n",
        "DOMAIN_ADAPTATION = False\n",
        "\n",
        "target_dataloader = art_dataloader\n",
        "bestnet, optimizer, criterion = instantiateNewNet(NUM_EPOCHS, train_dataloader, test_dataloader, target_dataloader, DOMAIN_ADAPTATION)\n",
        "finalAccuracy = test(bestnet, target_dataloader, art_dataset, optimizer, criterion)\n",
        "\n",
        "#target_dataloader = sketch_dataloader\n",
        "#finalAccuracySketch = test(bestnet, target_dataloader, art_dataset, optimizer, criterion)\n",
        "#target_dataloader = cartoon_dataloader\n",
        "#finalAccuracyCartoon = test(bestnet, target_dataloader, art_dataset, optimizer, criterion)\n",
        "#finalAccuracy = (finalAccuracySketch + finalAccuracyCartoon)/2\n",
        "\n",
        "print(\"Final accuracy on art: {}\".format(finalAccuracy))"
      ],
      "execution_count": 0,
      "outputs": []
    },
    {
      "cell_type": "code",
      "metadata": {
        "id": "qR9IHBXLaxjv",
        "colab_type": "code",
        "colab": {}
      },
      "source": [
        "\"\"\"steps = range(1,19)\n",
        "accuraciesMean = [0.30571863460380805,0.09514857144346277,0.24783632818709572,0.3195039055001012,0.31303656107512445,0.13451878783561805,0.2519800585825015,0.32663870736285794,0.24741220442721795,0.2404625902430253,0.364707452330053,0.2937756309302404,0.314561115517153,0.24255204582708262,0.24027343929839984,0.20592690694989652,0.2555421118192629,0.11315504644296329 ]\n",
        "accuraciesCartoon = [0.38822525597269625,0.1348122866894198,0.27602389078498296,0.47738907849829354,0.3361774744027304,0.10665529010238908,0.22653583617747441,0.3310580204778157,0.33575085324232085,0.2785836177474403,0.4718430034129693,0.33532423208191126,0.23080204778156996,0.2674914675767918,0.21203071672354948,0.23165529010238908,0.24104095563139932,0.09726962457337884]\n",
        "accuraciesSketch= [0.22321201323491982,0.055484856197505726,0.21964876558920846,0.1616187325019089,0.28989564774751847,0.16238228556884704,0.27742428098752864,0.32221939424790025,0.15907355561211503,0.20234156273861034,0.2575719012471367,0.2522270297785696,0.39832018325273605,0.2176126240773734,0.26851616187325017,0.18019852379740392,0.27004326800712647,0.12904046831254773]\n",
        "\"\"\""
      ],
      "execution_count": 0,
      "outputs": []
    }
  ]
}