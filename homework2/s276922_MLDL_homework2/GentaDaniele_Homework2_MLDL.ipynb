{
  "nbformat": 4,
  "nbformat_minor": 0,
  "metadata": {
    "colab": {
      "name": "GentaDaniele_Homework2-MLDL.ipynb",
      "provenance": [],
      "collapsed_sections": [],
      "machine_shape": "hm"
    },
    "kernelspec": {
      "name": "python3",
      "display_name": "Python 3"
    },
    "accelerator": "GPU",
    "widgets": {
      "application/vnd.jupyter.widget-state+json": {
        "3a4cd9ea3db04e3dbae02d5fa604099b": {
          "model_module": "@jupyter-widgets/controls",
          "model_name": "HBoxModel",
          "state": {
            "_view_name": "HBoxView",
            "_dom_classes": [],
            "_model_name": "HBoxModel",
            "_view_module": "@jupyter-widgets/controls",
            "_model_module_version": "1.5.0",
            "_view_count": null,
            "_view_module_version": "1.5.0",
            "box_style": "",
            "layout": "IPY_MODEL_6986b6b1fdc547f9a827926430b5d72a",
            "_model_module": "@jupyter-widgets/controls",
            "children": [
              "IPY_MODEL_a35efd51f3724b709cb44ad474a9ea17",
              "IPY_MODEL_b424d4b6a25946469cd72736050f2a9f"
            ]
          }
        },
        "6986b6b1fdc547f9a827926430b5d72a": {
          "model_module": "@jupyter-widgets/base",
          "model_name": "LayoutModel",
          "state": {
            "_view_name": "LayoutView",
            "grid_template_rows": null,
            "right": null,
            "justify_content": null,
            "_view_module": "@jupyter-widgets/base",
            "overflow": null,
            "_model_module_version": "1.2.0",
            "_view_count": null,
            "flex_flow": null,
            "width": null,
            "min_width": null,
            "border": null,
            "align_items": null,
            "bottom": null,
            "_model_module": "@jupyter-widgets/base",
            "top": null,
            "grid_column": null,
            "overflow_y": null,
            "overflow_x": null,
            "grid_auto_flow": null,
            "grid_area": null,
            "grid_template_columns": null,
            "flex": null,
            "_model_name": "LayoutModel",
            "justify_items": null,
            "grid_row": null,
            "max_height": null,
            "align_content": null,
            "visibility": null,
            "align_self": null,
            "height": null,
            "min_height": null,
            "padding": null,
            "grid_auto_rows": null,
            "grid_gap": null,
            "max_width": null,
            "order": null,
            "_view_module_version": "1.2.0",
            "grid_template_areas": null,
            "object_position": null,
            "object_fit": null,
            "grid_auto_columns": null,
            "margin": null,
            "display": null,
            "left": null
          }
        },
        "a35efd51f3724b709cb44ad474a9ea17": {
          "model_module": "@jupyter-widgets/controls",
          "model_name": "FloatProgressModel",
          "state": {
            "_view_name": "ProgressView",
            "style": "IPY_MODEL_74aaf57a35ca40c0a40ca7684ad29843",
            "_dom_classes": [],
            "description": "100%",
            "_model_name": "FloatProgressModel",
            "bar_style": "success",
            "max": 244418560,
            "_view_module": "@jupyter-widgets/controls",
            "_model_module_version": "1.5.0",
            "value": 244418560,
            "_view_count": null,
            "_view_module_version": "1.5.0",
            "orientation": "horizontal",
            "min": 0,
            "description_tooltip": null,
            "_model_module": "@jupyter-widgets/controls",
            "layout": "IPY_MODEL_f17751c2db64494e9f7ed21a3e477ed7"
          }
        },
        "b424d4b6a25946469cd72736050f2a9f": {
          "model_module": "@jupyter-widgets/controls",
          "model_name": "HTMLModel",
          "state": {
            "_view_name": "HTMLView",
            "style": "IPY_MODEL_05cf44aa16e040f8b7b4138f9057c49c",
            "_dom_classes": [],
            "description": "",
            "_model_name": "HTMLModel",
            "placeholder": "​",
            "_view_module": "@jupyter-widgets/controls",
            "_model_module_version": "1.5.0",
            "value": " 233M/233M [00:03&lt;00:00, 76.0MB/s]",
            "_view_count": null,
            "_view_module_version": "1.5.0",
            "description_tooltip": null,
            "_model_module": "@jupyter-widgets/controls",
            "layout": "IPY_MODEL_5e7edbc0b1e3465391137c7aee6fc3fa"
          }
        },
        "74aaf57a35ca40c0a40ca7684ad29843": {
          "model_module": "@jupyter-widgets/controls",
          "model_name": "ProgressStyleModel",
          "state": {
            "_view_name": "StyleView",
            "_model_name": "ProgressStyleModel",
            "description_width": "initial",
            "_view_module": "@jupyter-widgets/base",
            "_model_module_version": "1.5.0",
            "_view_count": null,
            "_view_module_version": "1.2.0",
            "bar_color": null,
            "_model_module": "@jupyter-widgets/controls"
          }
        },
        "f17751c2db64494e9f7ed21a3e477ed7": {
          "model_module": "@jupyter-widgets/base",
          "model_name": "LayoutModel",
          "state": {
            "_view_name": "LayoutView",
            "grid_template_rows": null,
            "right": null,
            "justify_content": null,
            "_view_module": "@jupyter-widgets/base",
            "overflow": null,
            "_model_module_version": "1.2.0",
            "_view_count": null,
            "flex_flow": null,
            "width": null,
            "min_width": null,
            "border": null,
            "align_items": null,
            "bottom": null,
            "_model_module": "@jupyter-widgets/base",
            "top": null,
            "grid_column": null,
            "overflow_y": null,
            "overflow_x": null,
            "grid_auto_flow": null,
            "grid_area": null,
            "grid_template_columns": null,
            "flex": null,
            "_model_name": "LayoutModel",
            "justify_items": null,
            "grid_row": null,
            "max_height": null,
            "align_content": null,
            "visibility": null,
            "align_self": null,
            "height": null,
            "min_height": null,
            "padding": null,
            "grid_auto_rows": null,
            "grid_gap": null,
            "max_width": null,
            "order": null,
            "_view_module_version": "1.2.0",
            "grid_template_areas": null,
            "object_position": null,
            "object_fit": null,
            "grid_auto_columns": null,
            "margin": null,
            "display": null,
            "left": null
          }
        },
        "05cf44aa16e040f8b7b4138f9057c49c": {
          "model_module": "@jupyter-widgets/controls",
          "model_name": "DescriptionStyleModel",
          "state": {
            "_view_name": "StyleView",
            "_model_name": "DescriptionStyleModel",
            "description_width": "",
            "_view_module": "@jupyter-widgets/base",
            "_model_module_version": "1.5.0",
            "_view_count": null,
            "_view_module_version": "1.2.0",
            "_model_module": "@jupyter-widgets/controls"
          }
        },
        "5e7edbc0b1e3465391137c7aee6fc3fa": {
          "model_module": "@jupyter-widgets/base",
          "model_name": "LayoutModel",
          "state": {
            "_view_name": "LayoutView",
            "grid_template_rows": null,
            "right": null,
            "justify_content": null,
            "_view_module": "@jupyter-widgets/base",
            "overflow": null,
            "_model_module_version": "1.2.0",
            "_view_count": null,
            "flex_flow": null,
            "width": null,
            "min_width": null,
            "border": null,
            "align_items": null,
            "bottom": null,
            "_model_module": "@jupyter-widgets/base",
            "top": null,
            "grid_column": null,
            "overflow_y": null,
            "overflow_x": null,
            "grid_auto_flow": null,
            "grid_area": null,
            "grid_template_columns": null,
            "flex": null,
            "_model_name": "LayoutModel",
            "justify_items": null,
            "grid_row": null,
            "max_height": null,
            "align_content": null,
            "visibility": null,
            "align_self": null,
            "height": null,
            "min_height": null,
            "padding": null,
            "grid_auto_rows": null,
            "grid_gap": null,
            "max_width": null,
            "order": null,
            "_view_module_version": "1.2.0",
            "grid_template_areas": null,
            "object_position": null,
            "object_fit": null,
            "grid_auto_columns": null,
            "margin": null,
            "display": null,
            "left": null
          }
        }
      }
    }
  },
  "cells": [
    {
      "cell_type": "markdown",
      "metadata": {
        "id": "c9QcGnGPdX2C",
        "colab_type": "text"
      },
      "source": [
        "\n",
        "**Install requirements**"
      ]
    },
    {
      "cell_type": "code",
      "metadata": {
        "id": "k9O3aM3Tb28q",
        "colab_type": "code",
        "outputId": "b6a75abe-59da-410b-d95f-c26cc331fa9c",
        "colab": {
          "base_uri": "https://localhost:8080/",
          "height": 34
        }
      },
      "source": [
        "\"\"\"!pip3 install 'torch==1.3.1'\n",
        "!pip3 install 'torchvision==0.5.0'\n",
        "!pip3 install 'Pillow-SIMD'\n",
        "!pip3 install 'tqdm'\"\"\""
      ],
      "execution_count": 0,
      "outputs": [
        {
          "output_type": "execute_result",
          "data": {
            "text/plain": [
              "\"!pip3 install 'torch==1.3.1'\\n!pip3 install 'torchvision==0.5.0'\\n!pip3 install 'Pillow-SIMD'\\n!pip3 install 'tqdm'\""
            ]
          },
          "metadata": {
            "tags": []
          },
          "execution_count": 1
        }
      ]
    },
    {
      "cell_type": "markdown",
      "metadata": {
        "id": "fo942LMOdlh4",
        "colab_type": "text"
      },
      "source": [
        "**Import libraries**"
      ]
    },
    {
      "cell_type": "code",
      "metadata": {
        "id": "DokFOdD1dJEl",
        "colab_type": "code",
        "outputId": "bbf4a5e1-0c7e-4588-e8ae-8759ec397318",
        "colab": {
          "base_uri": "https://localhost:8080/",
          "height": 71
        }
      },
      "source": [
        "import os\n",
        "import logging\n",
        "import copy\n",
        "import seaborn as sns; sns.set()\n",
        "import matplotlib.pyplot as plt\n",
        "import pandas as pd\n",
        "\n",
        "import torch\n",
        "import torch.nn as nn\n",
        "import torch.optim as optim\n",
        "from torch.utils.data import Subset, DataLoader\n",
        "from torch.backends import cudnn\n",
        "\n",
        "import torchvision\n",
        "from torchvision import transforms\n",
        "from torchvision.models import alexnet\n",
        "from torchvision.models import vgg16\n",
        "\n",
        "from PIL import Image\n",
        "from tqdm import tqdm\n",
        "\n",
        "from sklearn.model_selection import StratifiedShuffleSplit"
      ],
      "execution_count": 0,
      "outputs": [
        {
          "output_type": "stream",
          "text": [
            "/usr/local/lib/python3.6/dist-packages/statsmodels/tools/_testing.py:19: FutureWarning: pandas.util.testing is deprecated. Use the functions in the public API at pandas.testing instead.\n",
            "  import pandas.util.testing as tm\n"
          ],
          "name": "stderr"
        }
      ]
    },
    {
      "cell_type": "markdown",
      "metadata": {
        "id": "OIDLJuIXK_vh",
        "colab_type": "text"
      },
      "source": [
        "**Set Arguments**"
      ]
    },
    {
      "cell_type": "code",
      "metadata": {
        "id": "d5PkYfqfK_SA",
        "colab_type": "code",
        "colab": {}
      },
      "source": [
        "DEVICE = 'cuda' # 'cuda' or 'cpu'\n",
        "\n",
        "NUM_CLASSES = 101 # 101 + 1: There is am extra Background class that should be removed \n",
        "\n",
        "BATCH_SIZE = 256     # Higher batch sizes allows for larger learning rates. An empirical heuristic suggests that, when changing\n",
        "                     # the batch size, learning rate should change by the same factor to have comparable results\n",
        "\n",
        "LR = 1e-2       # The initial Learning Rate, ORIGINAL: 1e-3\n",
        "MOMENTUM = 0.9       # Hyperparameter for SGD, keep this at 0.9 when using SGD\n",
        "WEIGHT_DECAY = 5e-5  # Regularization, you can keep this at the default\n",
        "\n",
        "NUM_EPOCHS = 30      # Total number of training epochs (iterations over dataset), original: 30\n",
        "STEP_SIZE = 40      # How many epochs before decreasing learning rate (if using a step-down policy), original: 20\n",
        "GAMMA = 0.1          # Multiplicative factor for learning rate step-down\n",
        "\n",
        "LOG_FREQUENCY = 10\n",
        "\n",
        "# MY PARAMS\n",
        "LAYERS = 'FC' #NORMAL, CONVOLUTIONAL, FC\n",
        "DATA_AUGMENTATION = False #TRUE, FALSE\n",
        "CHOSEN_NETWORK = 'ALEXNET' #ALEXNET, VGG"
      ],
      "execution_count": 0,
      "outputs": []
    },
    {
      "cell_type": "markdown",
      "metadata": {
        "id": "9gwii0TBHvzh",
        "colab_type": "text"
      },
      "source": [
        "**Define Data Preprocessing**"
      ]
    },
    {
      "cell_type": "code",
      "metadata": {
        "id": "QUDdw4j2H0Mc",
        "colab_type": "code",
        "colab": {}
      },
      "source": [
        "# Define transforms for training phase\n",
        "train_transform = transforms.Compose([transforms.Resize(256),      # Resizes short size of the PIL image to 256\n",
        "                                      transforms.CenterCrop(224),  # Crops a central square patch of the image\n",
        "                                                                   # 224 because torchvision's AlexNet needs a 224x224 input!\n",
        "                                                                   # Remember this when applying different transformations, otherwise you get an error\n",
        "                                      transforms.ToTensor(), # Turn PIL Image to torch.Tensor\n",
        "                                      transforms.Normalize((0.5, 0.5, 0.5), (0.5, 0.5, 0.5)) # Normalizes tensor with mean and standard deviation\n",
        "])\n",
        "# Define transforms for the evaluation phase\n",
        "eval_transform = transforms.Compose([transforms.Resize(256),\n",
        "                                      transforms.CenterCrop(224),\n",
        "                                      transforms.ToTensor(),\n",
        "                                      transforms.Normalize((0.5, 0.5, 0.5), (0.5, 0.5, 0.5))                                    \n",
        "])"
      ],
      "execution_count": 0,
      "outputs": []
    },
    {
      "cell_type": "markdown",
      "metadata": {
        "id": "JO6cAt76Azzl",
        "colab_type": "text"
      },
      "source": [
        "**Define Data Preprocessing (Pretrained AlexNet)**"
      ]
    },
    {
      "cell_type": "code",
      "metadata": {
        "id": "dftkAsUgAyQn",
        "colab_type": "code",
        "colab": {}
      },
      "source": [
        "mean_pretrained = (0.485, 0.456, 0.406)\n",
        "stDev_pretrained = (0.229, 0.224, 0.225)\n",
        "img_eval_transform = transforms.Compose([transforms.Resize(256),\n",
        "                                      transforms.CenterCrop(224),\n",
        "                                      transforms.ToTensor(),\n",
        "                                      transforms.Normalize(mean = mean_pretrained,std= stDev_pretrained)\n",
        "])\n",
        "\n",
        "\n",
        "img_train_transform = transforms.Compose([transforms.Resize(256),\n",
        "                                      transforms.CenterCrop(224),\n",
        "                                      transforms.ToTensor(),\n",
        "                                      transforms.Normalize(mean = mean_pretrained,std= stDev_pretrained)\n",
        "])"
      ],
      "execution_count": 0,
      "outputs": []
    },
    {
      "cell_type": "markdown",
      "metadata": {
        "id": "037-UtLctraR",
        "colab_type": "text"
      },
      "source": [
        "**Data Augmentation**"
      ]
    },
    {
      "cell_type": "code",
      "metadata": {
        "id": "UY_G5Vhftq9A",
        "colab_type": "code",
        "colab": {}
      },
      "source": [
        "# DATA AUGMENTATION TRANSFORMATIONS\n",
        "\n",
        "# 1 - RANDOM CROP\n",
        "random_transform = transforms.Compose([transforms.Resize(256),      # Resizes short size of the PIL image to 256\n",
        "                                      transforms.RandomCrop(224),  # Crops a random square patch of the image => difference from before\n",
        "                                      transforms.ToTensor(), # Turn PIL Image to torch.Tensor\n",
        "                                      transforms.Normalize(mean_pretrained, stDev_pretrained) # Normalizes tensor with mean and standard deviation\n",
        "                                      ])\n",
        "\n",
        "# 2 - HORIZONTAL FLIP\n",
        "flip_transform = transforms.Compose([transforms.Resize(256),      # Resizes short size of the PIL image to 256\n",
        "                                      transforms.RandomHorizontalFlip(0.5), \n",
        "                                      transforms.CenterCrop(224),  # Crops a random square patch of the image                                      \n",
        "                                      transforms.ToTensor(), # Turn PIL Image to torch.Tensor\n",
        "                                      transforms.Normalize(mean_pretrained, stDev_pretrained) # Normalizes tensor with mean and standard deviation\n",
        "                                      ])\n",
        "# 3 - RANDOM FLIP -- not used \n",
        "\"\"\"random_flip_transform = transforms.Compose([transforms.Resize(256),      # Resizes short size of the PIL image to 256\n",
        "                                      transforms.RandomCrop(224),  # Crops a random square patch of the image\n",
        "                                      transforms.RandomHorizontalFlip(1.0), \n",
        "                                      transforms.ToTensor(), # Turn PIL Image to torch.Tensor\n",
        "                                      transforms.Normalize(mean_pretrained, stDev_pretrained) # Normalizes tensor with mean and standard deviation\n",
        "                                      ])\"\"\"\n",
        "\n",
        "# 4 - GRAY SCALE\n",
        "greyscale_transform = transforms.Compose([transforms.RandomGrayscale(0.5),\n",
        "                                      transforms.Resize(256), \n",
        "                                      transforms.CenterCrop(224),\n",
        "                                      transforms.ToTensor(), \n",
        "                                      transforms.Normalize(mean=mean_pretrained, std=stDev_pretrained) \n",
        "                                      ])\n"
      ],
      "execution_count": 0,
      "outputs": []
    },
    {
      "cell_type": "markdown",
      "metadata": {
        "id": "A8yDlC8RIVy4",
        "colab_type": "text"
      },
      "source": [
        "**Caltech.py embedding**"
      ]
    },
    {
      "cell_type": "code",
      "metadata": {
        "id": "uhbrDsONpl8b",
        "colab_type": "code",
        "colab": {}
      },
      "source": [
        "from torchvision.datasets import VisionDataset\n",
        "\n",
        "from PIL import Image\n",
        "\n",
        "import os\n",
        "import os.path\n",
        "import sys\n",
        "\n",
        "def pil_loader(path):\n",
        "    # open path as file to avoid ResourceWarning (https://github.com/python-pillow/Pillow/issues/835)\n",
        "    with open(path, 'rb') as f:\n",
        "        img = Image.open(f)\n",
        "        return img.convert('RGB')\n",
        "\n",
        "IMG_EXTENSIONS = ('.jpg', '.jpeg', '.png', '.ppm', '.bmp', '.pgm', '.tif', '.tiff', '.webp')\n",
        "\n",
        "def make_dataset(dir, class_to_idx, extensions=None, is_valid_file=None, split='train', transf='None'):\n",
        "    images = []\n",
        "    dir = os.path.expanduser(dir)\n",
        "    if not ((extensions is None) ^ (is_valid_file is None)):\n",
        "        raise ValueError(\"Both extensions and is_valid_file cannot be None or not None at the same time\")\n",
        "    if extensions is not None:\n",
        "        def is_valid_file(x):\n",
        "            return x.lower().endswith(extensions)\n",
        "\n",
        "    inFile = os.path.join(dir, split + '.txt')\n",
        "    with open(inFile, 'r') as f:      \n",
        "      inImages = f.read().splitlines()\n",
        "\n",
        "    root = os.path.join(dir, '101_ObjectCategories/')\n",
        "\n",
        "    for fname in sorted(inImages):\n",
        "      fpath = os.path.split(fname)\n",
        "      target = fpath[0]\n",
        "      path = os.path.join(root, fname)\n",
        "      if is_valid_file(path) and target != 'BACKGROUND_Google':\n",
        "        image = pil_loader(path)        \n",
        "        if transf is not None:\n",
        "            image = transf(image) # Applies preprocessing\n",
        "        item = (image, class_to_idx[target])\n",
        "        images.append(item)\n",
        "\n",
        "    return images\n",
        "\n",
        "class Caltech(VisionDataset):\n",
        "    def __init__(self, root, split='train', transform=None, target_transform=None):\n",
        "        super(Caltech, self).__init__(root, transform=transform, target_transform=target_transform)\n",
        "\n",
        "        self.split = split # This defines the split you are going to use\n",
        "                           # (split files are called 'train.txt' and 'test.txt')\n",
        "\n",
        "        classes, class_to_idx = self._find_classes(self.root)\n",
        "        samples = make_dataset(self.root, class_to_idx, IMG_EXTENSIONS, split=self.split, transf=transform)\n",
        "        if len(samples) == 0:\n",
        "            raise (RuntimeError(\"Found 0 files in subfolders of: \" + self.root + \"\\n\"\n",
        "                                \"Supported extensions are: \" + \",\".join(extensions)))\n",
        "\n",
        "\n",
        "        self.classes = classes\n",
        "        self.class_to_idx = class_to_idx\n",
        "        self.samples = samples\n",
        "        self.root = root\n",
        "        self.targets = [s[1] for s in samples]\n",
        "\n",
        "    def _find_classes(self, dir):        \n",
        "        root = os.path.join(dir, '101_ObjectCategories/')\n",
        "        if sys.version_info >= (3, 5):\n",
        "            # Faster and available in Python 3.5 and above\n",
        "            classes = [d.name for d in os.scandir(root) if d.is_dir()]\n",
        "        else:          \n",
        "            classes = [d for d in os.listdir(root) if os.path.isdir(os.path.join(root, d))]\n",
        "        \n",
        "        classes.remove('BACKGROUND_Google')\n",
        "        classes.sort()                \n",
        "        #print(classes)\n",
        "        class_to_idx = {classes[i]: i for i in range(len(classes))}\n",
        "        return classes, class_to_idx\n",
        "\n",
        "    def __getitem__(self, index):\n",
        "        '''\n",
        "        __getitem__ should access an element through its index\n",
        "        Args:\n",
        "            index (int): Index\n",
        "\n",
        "        Returns:\n",
        "            tuple: (sample, target) where target is class_index of the target class.\n",
        "        '''\n",
        "\n",
        "        image, label = self.samples[index]        \n",
        "        return image, label\n",
        "\n",
        "    def getAllTargets(self):\n",
        "      return self.targets\n",
        "\n",
        "    def __len__(self):        \n",
        "        return len(self.samples)"
      ],
      "execution_count": 0,
      "outputs": []
    },
    {
      "cell_type": "markdown",
      "metadata": {
        "id": "2qYIHPzYLY7i",
        "colab_type": "text"
      },
      "source": [
        "**Prepare Dataset**"
      ]
    },
    {
      "cell_type": "code",
      "metadata": {
        "id": "KENxA5FrcUIx",
        "colab_type": "code",
        "outputId": "8d2aa6a6-e025-40df-b49b-dac7658707ee",
        "colab": {
          "base_uri": "https://localhost:8080/",
          "height": 119
        }
      },
      "source": [
        "from math import floor\n",
        "import numpy as np\n",
        "\n",
        "# Clone github repository with data\n",
        "if not os.path.isdir('./Caltech101'):\n",
        "  !git clone https://github.com/MachineLearning2020/Homework2-Caltech101.git\n",
        "  !mv 'Homework2-Caltech101' 'Caltech101'\n",
        "\n",
        "DATA_DIR = 'Caltech101/'\n",
        "TRAIN_SPLIT = 'train'\n",
        "TEST_SPLIT = 'test'\n",
        "\n",
        "# Prepare Pytorch train/test Datasets\n",
        "train_dataset = Caltech(DATA_DIR, split=TRAIN_SPLIT,  transform=train_transform)\n",
        "test_dataset = Caltech(DATA_DIR, split=TEST_SPLIT, transform=eval_transform)\n",
        "\n",
        "#from Caltech101.caltech_dataset import Caltech"
      ],
      "execution_count": 0,
      "outputs": [
        {
          "output_type": "stream",
          "text": [
            "Cloning into 'Homework2-Caltech101'...\n",
            "remote: Enumerating objects: 9256, done.\u001b[K\n",
            "remote: Total 9256 (delta 0), reused 0 (delta 0), pack-reused 9256\u001b[K\n",
            "Receiving objects: 100% (9256/9256), 129.48 MiB | 40.23 MiB/s, done.\n",
            "Resolving deltas: 100% (4/4), done.\n",
            "Checking out files: 100% (9149/9149), done.\n"
          ],
          "name": "stdout"
        }
      ]
    },
    {
      "cell_type": "markdown",
      "metadata": {
        "id": "KpMvw5Skxt92",
        "colab_type": "text"
      },
      "source": [
        "**Train and validation split**"
      ]
    },
    {
      "cell_type": "code",
      "metadata": {
        "id": "GWAYLTu6xptz",
        "colab_type": "code",
        "outputId": "7c020aac-b478-4977-ce65-bbd3dde1e1b1",
        "colab": {
          "base_uri": "https://localhost:8080/",
          "height": 68
        }
      },
      "source": [
        "train_dataset_len = len(train_dataset)\n",
        "val_dataset_size = 0.5\n",
        "\n",
        "# 2A\n",
        "y = np.array(train_dataset.getAllTargets())\n",
        "X = np.zeros(len(y))\n",
        "sss = StratifiedShuffleSplit(n_splits=1, test_size=val_dataset_size, random_state=42)\n",
        "sss.get_n_splits(X, y)\n",
        "\n",
        "# just one iteration\n",
        "for train_indexes, val_indexes in sss.split(X, y):\n",
        "  val_dataset = Subset(train_dataset, val_indexes)\n",
        "  splitted_train_dataset = Subset(train_dataset, train_indexes)\n",
        "\n",
        "print('Train Dataset: {}'.format(len(splitted_train_dataset)))\n",
        "print('Valid Dataset: {}'.format(len(val_dataset)))\n",
        "print('Test Dataset: {}'.format(len(test_dataset)))"
      ],
      "execution_count": 0,
      "outputs": [
        {
          "output_type": "stream",
          "text": [
            "Train Dataset: 2892\n",
            "Valid Dataset: 2892\n",
            "Test Dataset: 2893\n"
          ],
          "name": "stdout"
        }
      ]
    },
    {
      "cell_type": "markdown",
      "metadata": {
        "id": "LJJ1GUaEIc32",
        "colab_type": "text"
      },
      "source": [
        "**Prepare dataset (pretrained AlexNet)**"
      ]
    },
    {
      "cell_type": "code",
      "metadata": {
        "id": "TAWCHsiHIbbC",
        "colab_type": "code",
        "colab": {}
      },
      "source": [
        "# Prepare Pytorch train/test Datasets\n",
        "img_train_dataset = Caltech(DATA_DIR, split=TRAIN_SPLIT,  transform=img_train_transform)\n",
        "img_test_dataset = Caltech(DATA_DIR, split=TEST_SPLIT, transform=img_eval_transform)\n",
        "\n",
        "# data augmentation (done only for pretrained net)\n",
        "if (DATA_AUGMENTATION):\n",
        "\n",
        "  # RANDOM CROP\n",
        "  augmented_train_dataset = Caltech(DATA_DIR, split='train', transform=random_transform)\n",
        "  augmented_test_dataset = Caltech(DATA_DIR, split='test', transform=random_transform)\n",
        "  # no need to data aug the test set\n",
        "  img_train_dataset.samples += augmented_train_dataset.samples\n",
        "\n",
        "  # HORIZONTAL FLIP\n",
        "  augmented_train_dataset = Caltech(DATA_DIR, split='train', transform=flip_transform)\n",
        "  augmented_test_dataset = Caltech(DATA_DIR, split='test', transform=flip_transform)\n",
        "  img_train_dataset.samples += augmented_train_dataset.samples\n",
        "\n",
        "  # RANDOM FLIP\n",
        "  \"\"\"augmented_train_dataset = Caltech(DATA_DIR, split='train', transform=random_flip_transform)\n",
        "  augmented_test_dataset = Caltech(DATA_DIR, split='test', transform=random_flip_transform)\n",
        "  img_train_dataset.samples += augmented_train_dataset.samples\"\"\"\n",
        "\n",
        "  # GREYSCALE TRANSFORMATION\n",
        "  \"\"\"augmented_train_dataset = Caltech(DATA_DIR, split='train', transform=greyscale_transform)\n",
        "  augmented_test_dataset = Caltech(DATA_DIR, split='test', transform=greyscale_transform)\n",
        "  img_train_dataset.samples += augmented_train_dataset.samples\"\"\"\n",
        "\n",
        "\n",
        "img_splitted_train_dataset = Subset(train_dataset, train_indexes)\n",
        "img_val_dataset = Subset(train_dataset, val_indexes)"
      ],
      "execution_count": 0,
      "outputs": []
    },
    {
      "cell_type": "markdown",
      "metadata": {
        "id": "FYEDQ7Z21ldN",
        "colab_type": "text"
      },
      "source": [
        "**Prepare Dataloaders**"
      ]
    },
    {
      "cell_type": "code",
      "metadata": {
        "id": "VriRw8SI1nle",
        "colab_type": "code",
        "colab": {}
      },
      "source": [
        "# Dataloaders iterate over pytorch datasets and transparently provide useful functions (e.g. parallelization and shuffling)\n",
        "train_dataloader = DataLoader(splitted_train_dataset, batch_size=BATCH_SIZE, shuffle=True, num_workers=4, drop_last=True)\n",
        "val_dataloader = DataLoader(val_dataset, batch_size=BATCH_SIZE, shuffle=True, num_workers=4)\n",
        "test_dataloader = DataLoader(test_dataset, batch_size=BATCH_SIZE, shuffle=False, num_workers=4)"
      ],
      "execution_count": 0,
      "outputs": []
    },
    {
      "cell_type": "markdown",
      "metadata": {
        "id": "aCKKYADhI5_r",
        "colab_type": "text"
      },
      "source": [
        "**Prepare Dataloaders (pretrained AlexNet)**"
      ]
    },
    {
      "cell_type": "code",
      "metadata": {
        "id": "weNdhbkdI32f",
        "colab_type": "code",
        "colab": {}
      },
      "source": [
        "img_train_dataloader = DataLoader(img_splitted_train_dataset, batch_size=BATCH_SIZE, shuffle=True, num_workers=4, drop_last=True)\n",
        "img_val_dataloader = DataLoader(img_val_dataset, batch_size=BATCH_SIZE, shuffle=True, num_workers=4)\n",
        "img_test_dataloader = DataLoader(img_test_dataset, batch_size=BATCH_SIZE, shuffle=False, num_workers=4)"
      ],
      "execution_count": 0,
      "outputs": []
    },
    {
      "cell_type": "markdown",
      "metadata": {
        "id": "gbZ1t5Qs2z4j",
        "colab_type": "text"
      },
      "source": [
        "**Prepare Network (both scratch and pretrained)**"
      ]
    },
    {
      "cell_type": "code",
      "metadata": {
        "id": "exHUjtXa22DN",
        "colab_type": "code",
        "outputId": "111a970d-92c6-4785-cb31-f9f58a82f427",
        "colab": {
          "base_uri": "https://localhost:8080/",
          "height": 83,
          "referenced_widgets": [
            "3a4cd9ea3db04e3dbae02d5fa604099b",
            "6986b6b1fdc547f9a827926430b5d72a",
            "a35efd51f3724b709cb44ad474a9ea17",
            "b424d4b6a25946469cd72736050f2a9f",
            "74aaf57a35ca40c0a40ca7684ad29843",
            "f17751c2db64494e9f7ed21a3e477ed7",
            "05cf44aa16e040f8b7b4138f9057c49c",
            "5e7edbc0b1e3465391137c7aee6fc3fa"
          ]
        }
      },
      "source": [
        "if CHOSEN_NETWORK == 'ALEXNET':\n",
        "  net = alexnet() # Loading AlexNet model\n",
        "  bestnet = alexnet() # Instance where the best network will be copied for the validation phase\n",
        "  pretrainednet = alexnet(pretrained=True) # Instance where the best network will be copied for the validation phase\n",
        "elif CHOSEN_NETWORK == 'VGG':\n",
        "  net = vgg16() \n",
        "  bestnet = vgg16() \n",
        "  pretrainednet = vgg16(pretrained=True)\n",
        "\n",
        "\n",
        "# AlexNet has 1000 output neurons, corresponding to the 1000 ImageNet's classes\n",
        "# We need 101 outputs for Caltech-101\n",
        "net.classifier[6] = nn.Linear(4096, NUM_CLASSES) # nn.Linear in pytorch is a fully connected layer\n",
        "                                                 # The convolutional layer is nn.Conv2d\n",
        "bestnet.classifier[6] = nn.Linear(4096, NUM_CLASSES)\n",
        "pretrainednet.classifier[6] = nn.Linear(4096, NUM_CLASSES)\n",
        "\n",
        "\n",
        "# We just changed the last layer of AlexNet with a new fully connected layer with 101 outputs\n",
        "# It is strongly suggested to study torchvision.models.alexnet source code"
      ],
      "execution_count": 0,
      "outputs": [
        {
          "output_type": "stream",
          "text": [
            "Downloading: \"https://download.pytorch.org/models/alexnet-owt-4df8aa71.pth\" to /root/.cache/torch/checkpoints/alexnet-owt-4df8aa71.pth\n"
          ],
          "name": "stderr"
        },
        {
          "output_type": "display_data",
          "data": {
            "application/vnd.jupyter.widget-view+json": {
              "model_id": "3a4cd9ea3db04e3dbae02d5fa604099b",
              "version_minor": 0,
              "version_major": 2
            },
            "text/plain": [
              "HBox(children=(FloatProgress(value=0.0, max=244418560.0), HTML(value='')))"
            ]
          },
          "metadata": {
            "tags": []
          }
        },
        {
          "output_type": "stream",
          "text": [
            "\n"
          ],
          "name": "stdout"
        }
      ]
    },
    {
      "cell_type": "markdown",
      "metadata": {
        "id": "KEyL3H_R4qCf",
        "colab_type": "text"
      },
      "source": [
        "**Prepare Training (both scratch and pretrained)**"
      ]
    },
    {
      "cell_type": "code",
      "metadata": {
        "id": "9sjq00G94tSc",
        "colab_type": "code",
        "colab": {}
      },
      "source": [
        "# MOST OF THE LINES OF THIS BLOCK HAVE BEEN EMBEDDED IN THE COMMON FUNCTION\n",
        "\n",
        "# Define loss function\n",
        "criterion = nn.CrossEntropyLoss() # for classification, we use Cross Entropy\n",
        "\n",
        "# i could squeeze all of the below in the common function\n",
        "\n",
        "# Choose parameters to optimize\n",
        "# To access a different set of parameters, you have to access submodules of AlexNet\n",
        "# (nn.Module objects, like AlexNet, implement the Composite Pattern)\n",
        "# e.g.: parameters of the fully connected layers: net.classifier.parameters()\n",
        "# e.g.: parameters of the convolutional layers: look at alexnet's source code ;) \n",
        "# In this case we optimize over all the parameters of AlexNet\n",
        "bestnet_parameters_to_optimize = bestnet.parameters()\n",
        "if (LAYERS == 'NORMAL'): # complete architecture\n",
        "  pretrainednet_parameters_to_optimize = pretrainednet.parameters()\n",
        "  parameters_to_optimize = net.parameters() \n",
        "elif (LAYERS == 'CONVOLUTIONAL'): # freeze fully connected\n",
        "  pretrainednet_parameters_to_optimize = pretrainednet.features.parameters()\n",
        "  parameters_to_optimize = net.features.parameters() \n",
        "elif (LAYERS == 'FC'): # freeze covolutional\n",
        "  pretrainednet_parameters_to_optimize = pretrainednet.classifier.parameters()\n",
        "  parameters_to_optimize = net.classifier.parameters()\n",
        "\n",
        "# Define optimizer\n",
        "# An optimizer updates the weights based on loss\n",
        "# We use SGD with momentum\n",
        "optimizer = optim.SGD(parameters_to_optimize, lr=LR, momentum=MOMENTUM, weight_decay=WEIGHT_DECAY)\n",
        "bestnet_optimizer = optim.SGD(bestnet_parameters_to_optimize, lr=LR, momentum=MOMENTUM, weight_decay=WEIGHT_DECAY)\n",
        "pretrainednet_optimizer = optim.SGD(pretrainednet_parameters_to_optimize, lr=LR, momentum=MOMENTUM, weight_decay=WEIGHT_DECAY)\n",
        "\n",
        "\n",
        "\n",
        "# Define scheduler\n",
        "# A scheduler dynamically changes learning rate\n",
        "# The most common schedule is the step(-down), which multiplies learning rate by gamma every STEP_SIZE epochs\n",
        "scheduler = optim.lr_scheduler.StepLR(optimizer, step_size=STEP_SIZE, gamma=GAMMA)\n",
        "bestnet_scheduler = optim.lr_scheduler.StepLR(bestnet_optimizer, step_size=STEP_SIZE, gamma=GAMMA)\n",
        "pretrainednet_scheduler = optim.lr_scheduler.StepLR(pretrainednet_optimizer, step_size=STEP_SIZE, gamma=GAMMA)"
      ],
      "execution_count": 0,
      "outputs": []
    },
    {
      "cell_type": "code",
      "metadata": {
        "id": "uZ2tP-M-Fga0",
        "colab_type": "code",
        "colab": {}
      },
      "source": [
        "def validateTest(nnet, loader, dataset):\n",
        "  nnet = nnet.to(DEVICE) # this will bring the network to GPU if DEVICE is cuda\n",
        "  nnet.train(False) # Set Network to evaluation mode\n",
        "\n",
        "  running_corrects = 0\n",
        "  for images, labels in tqdm(loader):\n",
        "    images = images.to(DEVICE)\n",
        "    labels = labels.to(DEVICE)\n",
        "\n",
        "    # Forward Pass\n",
        "    outputs = nnet(images)\n",
        "\n",
        "    # Get predictions\n",
        "    _, preds = torch.max(outputs.data, 1)\n",
        "\n",
        "    # Update Corrects\n",
        "    running_corrects += torch.sum(preds == labels.data).data.item()\n",
        "\n",
        "  # Calculate Accuracy\n",
        "  accuracy = running_corrects / float(len(dataset))\n",
        "  return accuracy\n"
      ],
      "execution_count": 0,
      "outputs": []
    },
    {
      "cell_type": "code",
      "metadata": {
        "id": "Q3QDdAHJIzoi",
        "colab_type": "code",
        "colab": {}
      },
      "source": [
        "def output(accuracy, accuraciesValidation, accuraciesTraining, lossesValidation, epochs_list):\n",
        "  print('FINAL: Test Accuracy: {}'.format(accuracy))\n",
        "\n",
        "  ###########\n",
        "  # Plots\n",
        "  ###########\n",
        "  epochsAccuracies = list(zip(epochs_list, accuraciesValidation, accuraciesTraining))\n",
        "  dataEpochsAccuracy = pd.DataFrame(epochsAccuracies, columns = ['Epochs', 'Accuracy validation', 'Accuracy training'])\n",
        "\n",
        "  # epochs against accuracy\n",
        "  ax = sns.lineplot(x=\"Epochs\", y=\"Accuracy validation\", data=dataEpochsAccuracy)\n",
        "  ax = sns.lineplot(x=\"Epochs\", y=\"Accuracy training\", data=dataEpochsAccuracy)\n",
        "  ax.legend(['Accuracy validation','Accuracy training'])\n",
        "  ax.set(xlabel='Epochs', ylabel='Accuracy')\n",
        "  plt.show()\n",
        "  \n",
        "  # epochs against loss\n",
        "  epochsLosses = list(zip(epochs_list, lossesValidation))\n",
        "  dataEpochsLosses = pd.DataFrame(epochsLosses, columns = ['Epochs', 'Loss'])\n",
        "\n",
        "  ax1 = sns.lineplot(x=\"Epochs\", y=\"Loss\", data=dataEpochsLosses)\n",
        "  plt.show()\n"
      ],
      "execution_count": 0,
      "outputs": []
    },
    {
      "cell_type": "markdown",
      "metadata": {
        "id": "UrJzJlerjlcN",
        "colab_type": "text"
      },
      "source": [
        "***Common function***"
      ]
    },
    {
      "cell_type": "code",
      "metadata": {
        "id": "FpVExJKojkt4",
        "colab_type": "code",
        "colab": {}
      },
      "source": [
        "def trainValidateTest(mode, selNet, selOptimizer, selScheduler, selLR, selNEpochs, selStepSize, selTrainLoader, selValLoader, selTestLoader, selTrainingDataset, selValidationDataset, selTestDataset):\n",
        "  # By default, everything is loaded to cpu\n",
        "\n",
        "  selNet = selNet.to(DEVICE) # this will bring the network to GPU if DEVICE is cuda\n",
        "\n",
        "  cudnn.benchmark # Calling this optimizes runtime\n",
        "\n",
        "  current_step = 0\n",
        "\n",
        "  training_accuracies = []\n",
        "  accuracies = []\n",
        "  losses = []\n",
        "  epochs_list = []\n",
        "\n",
        "  # keep track of accuracy and loss, in order to save the best trained network\n",
        "  # i start from the worst scenario possible\n",
        "  best_accuracy = float('-inf') #minimum possible value in Python\n",
        "  best_loss = float('inf')\n",
        "\n",
        "  # Start iterating over the epochs\n",
        "  for epoch in range(selNEpochs):\n",
        "    print('\\nStarting epoch {}/{}, LR = {}'.format(epoch+1, selNEpochs, selScheduler.get_lr()))\n",
        "\n",
        "    # Iterate over the dataset\n",
        "    for images, labels in selTrainLoader:\n",
        "      # Bring data over the device of choice\n",
        "      images = images.to(DEVICE)\n",
        "      labels = labels.to(DEVICE)\n",
        "\n",
        "      selNet.train() # Sets module in training mode\n",
        "\n",
        "      # PyTorch, by default, accumulates gradients after each backward pass\n",
        "      # We need to manually set the gradients to zero before starting a new iteration\n",
        "      selOptimizer.zero_grad() # Zero-ing the gradients\n",
        "\n",
        "      # Forward pass to the network\n",
        "      outputs = selNet(images)\n",
        "\n",
        "      # Compute loss based on output and ground truth\n",
        "      loss = criterion(outputs, labels)\n",
        "\n",
        "      # Log loss\n",
        "      if current_step % LOG_FREQUENCY == 0:\n",
        "        print('Step {}, Loss {}'.format(current_step, loss.item()))\n",
        "\n",
        "      # Compute gradients for each layer and update weights\n",
        "      loss.backward()  # backward pass: computes gradients\n",
        "      selOptimizer.step() # update weights based on accumulated gradients\n",
        "\n",
        "      current_step += 1\n",
        "\n",
        "    # Training set accuracy\n",
        "    training_accuracy = validateTest(selNet, selTrainLoader, selTrainingDataset)\n",
        "    training_accuracies.append(training_accuracy)\n",
        "\n",
        "    ###################\n",
        "    # VALIDATION PHASE\n",
        "    ###################\n",
        "    # (at the end of each epoch)\n",
        "    # implementing of model selection with validation\n",
        "\n",
        "    accuracy = validateTest(selNet, selValLoader, selValidationDataset)\n",
        "    print('Validation Accuracy: {}'.format(accuracy))\n",
        "    accuracies.append(accuracy)\n",
        "    losses.append(loss.item())\n",
        "    epochs_list.append(epoch)\n",
        "\n",
        "    # shoud i update my best model?\n",
        "    # i choose based on accuracy and loss (in this order)\n",
        "    if accuracy > best_accuracy:\n",
        "      bestnet = copy.deepcopy(selNet)\n",
        "      best_accuracy = accuracy\n",
        "    elif accuracy == best_accuracy:\n",
        "      if loss.item() < best_loss:\n",
        "        best_loss = loss.item()\n",
        "        bestnet = copy.deepcopy(selNet) \n",
        "    \n",
        "    # Step the scheduler\n",
        "    selScheduler.step() \n",
        "\n",
        "\n",
        "\n",
        "\n",
        "  #############\n",
        "  # TEST PHASE\n",
        "  #############\n",
        "  # i want to test on the best model\n",
        " \n",
        "  accuracy = validateTest(bestnet, selTestLoader, selTestDataset)\n",
        "\n",
        "  ##########\n",
        "  # Output\n",
        "  ##########\n",
        "  output(accuracy, accuracies, training_accuracies, losses, epochs_list)\n",
        "\n"
      ],
      "execution_count": 0,
      "outputs": []
    },
    {
      "cell_type": "code",
      "metadata": {
        "id": "LmyO8HeJmP7V",
        "colab_type": "code",
        "colab": {}
      },
      "source": [
        "# train from scratch\n",
        "\n",
        "#trainValidateTest(\"Training from scratch\", net, optimizer, scheduler, LR, NUM_EPOCHS, STEP_SIZE, train_dataloader, val_dataloader, test_dataloader,splitted_train_dataset, val_dataset, test_dataset)"
      ],
      "execution_count": 0,
      "outputs": []
    },
    {
      "cell_type": "code",
      "metadata": {
        "id": "Xu5YnzITnltJ",
        "colab_type": "code",
        "outputId": "594ca96c-3bc2-4310-87a4-44f6cbaed5f5",
        "colab": {
          "base_uri": "https://localhost:8080/",
          "height": 1000
        }
      },
      "source": [
        "# 3A-B-C\n",
        "# transfer learning\n",
        "\n",
        "trainValidateTest(\"Transfer Learning\",pretrainednet, pretrainednet_optimizer, pretrainednet_scheduler, LR, NUM_EPOCHS, STEP_SIZE, img_train_dataloader, img_val_dataloader, img_test_dataloader,img_splitted_train_dataset, img_val_dataset, img_test_dataset)"
      ],
      "execution_count": 0,
      "outputs": [
        {
          "output_type": "stream",
          "text": [
            "\n",
            "Starting epoch 1/30, LR = [0.01]\n"
          ],
          "name": "stdout"
        },
        {
          "output_type": "stream",
          "text": [
            "/usr/local/lib/python3.6/dist-packages/torch/optim/lr_scheduler.py:351: UserWarning: To get the last learning rate computed by the scheduler, please use `get_last_lr()`.\n",
            "  \"please use `get_last_lr()`.\", UserWarning)\n"
          ],
          "name": "stderr"
        },
        {
          "output_type": "stream",
          "text": [
            "Step 0, Loss 4.860447883605957\n",
            "Step 10, Loss 1.8766950368881226\n"
          ],
          "name": "stdout"
        },
        {
          "output_type": "stream",
          "text": [
            "100%|██████████| 11/11 [00:02<00:00,  4.07it/s]\n",
            "100%|██████████| 12/12 [00:02<00:00,  4.33it/s]"
          ],
          "name": "stderr"
        },
        {
          "output_type": "stream",
          "text": [
            "Validation Accuracy: 0.6414246196403873\n",
            "\n",
            "Starting epoch 2/30, LR = [0.01]\n"
          ],
          "name": "stdout"
        },
        {
          "output_type": "stream",
          "text": [
            "\n"
          ],
          "name": "stderr"
        },
        {
          "output_type": "stream",
          "text": [
            "Step 20, Loss 0.7005923390388489\n"
          ],
          "name": "stdout"
        },
        {
          "output_type": "stream",
          "text": [
            "100%|██████████| 11/11 [00:02<00:00,  3.81it/s]\n",
            "100%|██████████| 12/12 [00:03<00:00,  3.97it/s]"
          ],
          "name": "stderr"
        },
        {
          "output_type": "stream",
          "text": [
            "Validation Accuracy: 0.7793914246196404\n",
            "\n",
            "Starting epoch 3/30, LR = [0.01]\n"
          ],
          "name": "stdout"
        },
        {
          "output_type": "stream",
          "text": [
            "\n"
          ],
          "name": "stderr"
        },
        {
          "output_type": "stream",
          "text": [
            "Step 30, Loss 0.4092668294906616\n"
          ],
          "name": "stdout"
        },
        {
          "output_type": "stream",
          "text": [
            "100%|██████████| 11/11 [00:02<00:00,  4.02it/s]\n",
            "100%|██████████| 12/12 [00:02<00:00,  4.08it/s]"
          ],
          "name": "stderr"
        },
        {
          "output_type": "stream",
          "text": [
            "Validation Accuracy: 0.7942600276625172\n",
            "\n",
            "Starting epoch 4/30, LR = [0.01]\n"
          ],
          "name": "stdout"
        },
        {
          "output_type": "stream",
          "text": [
            "\n"
          ],
          "name": "stderr"
        },
        {
          "output_type": "stream",
          "text": [
            "Step 40, Loss 0.2198803722858429\n"
          ],
          "name": "stdout"
        },
        {
          "output_type": "stream",
          "text": [
            "100%|██████████| 11/11 [00:02<00:00,  3.77it/s]\n",
            "100%|██████████| 12/12 [00:03<00:00,  4.00it/s]"
          ],
          "name": "stderr"
        },
        {
          "output_type": "stream",
          "text": [
            "Validation Accuracy: 0.8091286307053942\n",
            "\n",
            "Starting epoch 5/30, LR = [0.01]\n"
          ],
          "name": "stdout"
        },
        {
          "output_type": "stream",
          "text": [
            "\n"
          ],
          "name": "stderr"
        },
        {
          "output_type": "stream",
          "text": [
            "Step 50, Loss 0.10416561365127563\n"
          ],
          "name": "stdout"
        },
        {
          "output_type": "stream",
          "text": [
            "100%|██████████| 11/11 [00:02<00:00,  3.76it/s]\n",
            "100%|██████████| 12/12 [00:03<00:00,  3.98it/s]"
          ],
          "name": "stderr"
        },
        {
          "output_type": "stream",
          "text": [
            "Validation Accuracy: 0.822268326417704\n",
            "\n",
            "Starting epoch 6/30, LR = [0.01]\n"
          ],
          "name": "stdout"
        },
        {
          "output_type": "stream",
          "text": [
            "\n"
          ],
          "name": "stderr"
        },
        {
          "output_type": "stream",
          "text": [
            "Step 60, Loss 0.08423440158367157\n"
          ],
          "name": "stdout"
        },
        {
          "output_type": "stream",
          "text": [
            "100%|██████████| 11/11 [00:02<00:00,  3.74it/s]\n",
            "100%|██████████| 12/12 [00:02<00:00,  4.19it/s]"
          ],
          "name": "stderr"
        },
        {
          "output_type": "stream",
          "text": [
            "Validation Accuracy: 0.8226141078838174\n",
            "\n",
            "Starting epoch 7/30, LR = [0.01]\n"
          ],
          "name": "stdout"
        },
        {
          "output_type": "stream",
          "text": [
            "\n"
          ],
          "name": "stderr"
        },
        {
          "output_type": "stream",
          "text": [
            "Step 70, Loss 0.09682168811559677\n"
          ],
          "name": "stdout"
        },
        {
          "output_type": "stream",
          "text": [
            "100%|██████████| 11/11 [00:02<00:00,  3.95it/s]\n",
            "100%|██████████| 12/12 [00:02<00:00,  4.20it/s]"
          ],
          "name": "stderr"
        },
        {
          "output_type": "stream",
          "text": [
            "Validation Accuracy: 0.822268326417704\n",
            "\n",
            "Starting epoch 8/30, LR = [0.01]\n"
          ],
          "name": "stdout"
        },
        {
          "output_type": "stream",
          "text": [
            "\n"
          ],
          "name": "stderr"
        },
        {
          "output_type": "stream",
          "text": [
            "Step 80, Loss 0.0450066402554512\n"
          ],
          "name": "stdout"
        },
        {
          "output_type": "stream",
          "text": [
            "100%|██████████| 11/11 [00:02<00:00,  3.94it/s]\n",
            "100%|██████████| 12/12 [00:02<00:00,  4.27it/s]"
          ],
          "name": "stderr"
        },
        {
          "output_type": "stream",
          "text": [
            "Validation Accuracy: 0.822268326417704\n",
            "\n",
            "Starting epoch 9/30, LR = [0.01]\n"
          ],
          "name": "stdout"
        },
        {
          "output_type": "stream",
          "text": [
            "\n"
          ],
          "name": "stderr"
        },
        {
          "output_type": "stream",
          "text": [
            "Step 90, Loss 0.053278036415576935\n"
          ],
          "name": "stdout"
        },
        {
          "output_type": "stream",
          "text": [
            "100%|██████████| 11/11 [00:02<00:00,  3.98it/s]\n",
            "100%|██████████| 12/12 [00:02<00:00,  4.19it/s]"
          ],
          "name": "stderr"
        },
        {
          "output_type": "stream",
          "text": [
            "Validation Accuracy: 0.8215767634854771\n",
            "\n",
            "Starting epoch 10/30, LR = [0.01]\n"
          ],
          "name": "stdout"
        },
        {
          "output_type": "stream",
          "text": [
            "\n"
          ],
          "name": "stderr"
        },
        {
          "output_type": "stream",
          "text": [
            "Step 100, Loss 0.04528672993183136\n"
          ],
          "name": "stdout"
        },
        {
          "output_type": "stream",
          "text": [
            "100%|██████████| 11/11 [00:02<00:00,  4.00it/s]\n",
            "100%|██████████| 12/12 [00:02<00:00,  4.27it/s]"
          ],
          "name": "stderr"
        },
        {
          "output_type": "stream",
          "text": [
            "Validation Accuracy: 0.8253803596127247\n",
            "\n",
            "Starting epoch 11/30, LR = [0.01]\n"
          ],
          "name": "stdout"
        },
        {
          "output_type": "stream",
          "text": [
            "\n"
          ],
          "name": "stderr"
        },
        {
          "output_type": "stream",
          "text": [
            "Step 110, Loss 0.04928011819720268\n"
          ],
          "name": "stdout"
        },
        {
          "output_type": "stream",
          "text": [
            "\r  0%|          | 0/11 [00:00<?, ?it/s]"
          ],
          "name": "stderr"
        },
        {
          "output_type": "stream",
          "text": [
            "Step 120, Loss 0.03186044842004776\n"
          ],
          "name": "stdout"
        },
        {
          "output_type": "stream",
          "text": [
            "100%|██████████| 11/11 [00:02<00:00,  3.98it/s]\n",
            "100%|██████████| 12/12 [00:02<00:00,  4.22it/s]"
          ],
          "name": "stderr"
        },
        {
          "output_type": "stream",
          "text": [
            "Validation Accuracy: 0.8257261410788381\n",
            "\n",
            "Starting epoch 12/30, LR = [0.01]\n"
          ],
          "name": "stdout"
        },
        {
          "output_type": "stream",
          "text": [
            "\n"
          ],
          "name": "stderr"
        },
        {
          "output_type": "stream",
          "text": [
            "Step 130, Loss 0.027917973697185516\n"
          ],
          "name": "stdout"
        },
        {
          "output_type": "stream",
          "text": [
            "100%|██████████| 11/11 [00:02<00:00,  3.99it/s]\n",
            "100%|██████████| 12/12 [00:02<00:00,  4.17it/s]"
          ],
          "name": "stderr"
        },
        {
          "output_type": "stream",
          "text": [
            "Validation Accuracy: 0.8319502074688797\n",
            "\n",
            "Starting epoch 13/30, LR = [0.01]\n"
          ],
          "name": "stdout"
        },
        {
          "output_type": "stream",
          "text": [
            "\n"
          ],
          "name": "stderr"
        },
        {
          "output_type": "stream",
          "text": [
            "Step 140, Loss 0.028302334249019623\n"
          ],
          "name": "stdout"
        },
        {
          "output_type": "stream",
          "text": [
            "100%|██████████| 11/11 [00:02<00:00,  3.97it/s]\n",
            "100%|██████████| 12/12 [00:02<00:00,  4.18it/s]"
          ],
          "name": "stderr"
        },
        {
          "output_type": "stream",
          "text": [
            "Validation Accuracy: 0.828838174273859\n",
            "\n",
            "Starting epoch 14/30, LR = [0.01]\n"
          ],
          "name": "stdout"
        },
        {
          "output_type": "stream",
          "text": [
            "\n"
          ],
          "name": "stderr"
        },
        {
          "output_type": "stream",
          "text": [
            "Step 150, Loss 0.022677630186080933\n"
          ],
          "name": "stdout"
        },
        {
          "output_type": "stream",
          "text": [
            "100%|██████████| 11/11 [00:02<00:00,  3.96it/s]\n",
            "100%|██████████| 12/12 [00:02<00:00,  4.19it/s]"
          ],
          "name": "stderr"
        },
        {
          "output_type": "stream",
          "text": [
            "Validation Accuracy: 0.826417704011065\n",
            "\n",
            "Starting epoch 15/30, LR = [0.01]\n"
          ],
          "name": "stdout"
        },
        {
          "output_type": "stream",
          "text": [
            "\n"
          ],
          "name": "stderr"
        },
        {
          "output_type": "stream",
          "text": [
            "Step 160, Loss 0.024910669773817062\n"
          ],
          "name": "stdout"
        },
        {
          "output_type": "stream",
          "text": [
            "100%|██████████| 11/11 [00:02<00:00,  3.97it/s]\n",
            "100%|██████████| 12/12 [00:02<00:00,  4.20it/s]"
          ],
          "name": "stderr"
        },
        {
          "output_type": "stream",
          "text": [
            "Validation Accuracy: 0.8298755186721992\n",
            "\n",
            "Starting epoch 16/30, LR = [0.01]\n"
          ],
          "name": "stdout"
        },
        {
          "output_type": "stream",
          "text": [
            "\n"
          ],
          "name": "stderr"
        },
        {
          "output_type": "stream",
          "text": [
            "Step 170, Loss 0.04398346319794655\n"
          ],
          "name": "stdout"
        },
        {
          "output_type": "stream",
          "text": [
            "100%|██████████| 11/11 [00:02<00:00,  4.01it/s]\n",
            "100%|██████████| 12/12 [00:02<00:00,  4.23it/s]"
          ],
          "name": "stderr"
        },
        {
          "output_type": "stream",
          "text": [
            "Validation Accuracy: 0.8284923928077456\n",
            "\n",
            "Starting epoch 17/30, LR = [0.01]\n"
          ],
          "name": "stdout"
        },
        {
          "output_type": "stream",
          "text": [
            "\n"
          ],
          "name": "stderr"
        },
        {
          "output_type": "stream",
          "text": [
            "Step 180, Loss 0.021927911788225174\n"
          ],
          "name": "stdout"
        },
        {
          "output_type": "stream",
          "text": [
            "100%|██████████| 11/11 [00:02<00:00,  3.96it/s]\n",
            "100%|██████████| 12/12 [00:02<00:00,  4.20it/s]"
          ],
          "name": "stderr"
        },
        {
          "output_type": "stream",
          "text": [
            "Validation Accuracy: 0.830567081604426\n",
            "\n",
            "Starting epoch 18/30, LR = [0.01]\n"
          ],
          "name": "stdout"
        },
        {
          "output_type": "stream",
          "text": [
            "\n"
          ],
          "name": "stderr"
        },
        {
          "output_type": "stream",
          "text": [
            "Step 190, Loss 0.011022910475730896\n"
          ],
          "name": "stdout"
        },
        {
          "output_type": "stream",
          "text": [
            "100%|██████████| 11/11 [00:02<00:00,  3.94it/s]\n",
            "100%|██████████| 12/12 [00:02<00:00,  4.29it/s]"
          ],
          "name": "stderr"
        },
        {
          "output_type": "stream",
          "text": [
            "Validation Accuracy: 0.8309128630705395\n",
            "\n",
            "Starting epoch 19/30, LR = [0.01]\n"
          ],
          "name": "stdout"
        },
        {
          "output_type": "stream",
          "text": [
            "\n"
          ],
          "name": "stderr"
        },
        {
          "output_type": "stream",
          "text": [
            "Step 200, Loss 0.01699308678507805\n"
          ],
          "name": "stdout"
        },
        {
          "output_type": "stream",
          "text": [
            "100%|██████████| 11/11 [00:02<00:00,  3.99it/s]\n",
            "100%|██████████| 12/12 [00:02<00:00,  4.26it/s]"
          ],
          "name": "stderr"
        },
        {
          "output_type": "stream",
          "text": [
            "Validation Accuracy: 0.8291839557399724\n",
            "\n",
            "Starting epoch 20/30, LR = [0.01]\n"
          ],
          "name": "stdout"
        },
        {
          "output_type": "stream",
          "text": [
            "\n"
          ],
          "name": "stderr"
        },
        {
          "output_type": "stream",
          "text": [
            "Step 210, Loss 0.03745055943727493\n"
          ],
          "name": "stdout"
        },
        {
          "output_type": "stream",
          "text": [
            "100%|██████████| 11/11 [00:02<00:00,  3.99it/s]\n",
            "100%|██████████| 12/12 [00:02<00:00,  4.13it/s]"
          ],
          "name": "stderr"
        },
        {
          "output_type": "stream",
          "text": [
            "Validation Accuracy: 0.8340248962655602\n",
            "\n",
            "Starting epoch 21/30, LR = [0.01]\n"
          ],
          "name": "stdout"
        },
        {
          "output_type": "stream",
          "text": [
            "\n"
          ],
          "name": "stderr"
        },
        {
          "output_type": "stream",
          "text": [
            "Step 220, Loss 0.016998574137687683\n"
          ],
          "name": "stdout"
        },
        {
          "output_type": "stream",
          "text": [
            "\r  0%|          | 0/11 [00:00<?, ?it/s]"
          ],
          "name": "stderr"
        },
        {
          "output_type": "stream",
          "text": [
            "Step 230, Loss 0.011977896094322205\n"
          ],
          "name": "stdout"
        },
        {
          "output_type": "stream",
          "text": [
            "100%|██████████| 11/11 [00:02<00:00,  3.92it/s]\n",
            "100%|██████████| 12/12 [00:02<00:00,  4.23it/s]"
          ],
          "name": "stderr"
        },
        {
          "output_type": "stream",
          "text": [
            "Validation Accuracy: 0.8284923928077456\n",
            "\n",
            "Starting epoch 22/30, LR = [0.01]\n"
          ],
          "name": "stdout"
        },
        {
          "output_type": "stream",
          "text": [
            "\n"
          ],
          "name": "stderr"
        },
        {
          "output_type": "stream",
          "text": [
            "Step 240, Loss 0.01678524538874626\n"
          ],
          "name": "stdout"
        },
        {
          "output_type": "stream",
          "text": [
            "100%|██████████| 11/11 [00:02<00:00,  3.94it/s]\n",
            "100%|██████████| 12/12 [00:02<00:00,  4.16it/s]"
          ],
          "name": "stderr"
        },
        {
          "output_type": "stream",
          "text": [
            "Validation Accuracy: 0.8284923928077456\n",
            "\n",
            "Starting epoch 23/30, LR = [0.01]\n"
          ],
          "name": "stdout"
        },
        {
          "output_type": "stream",
          "text": [
            "\n"
          ],
          "name": "stderr"
        },
        {
          "output_type": "stream",
          "text": [
            "Step 250, Loss 0.010392922908067703\n"
          ],
          "name": "stdout"
        },
        {
          "output_type": "stream",
          "text": [
            "100%|██████████| 11/11 [00:02<00:00,  3.94it/s]\n",
            "100%|██████████| 12/12 [00:02<00:00,  4.24it/s]"
          ],
          "name": "stderr"
        },
        {
          "output_type": "stream",
          "text": [
            "Validation Accuracy: 0.8274550484094052\n",
            "\n",
            "Starting epoch 24/30, LR = [0.01]\n"
          ],
          "name": "stdout"
        },
        {
          "output_type": "stream",
          "text": [
            "\n"
          ],
          "name": "stderr"
        },
        {
          "output_type": "stream",
          "text": [
            "Step 260, Loss 0.02531241998076439\n"
          ],
          "name": "stdout"
        },
        {
          "output_type": "stream",
          "text": [
            "100%|██████████| 11/11 [00:02<00:00,  3.94it/s]\n",
            "100%|██████████| 12/12 [00:02<00:00,  4.20it/s]"
          ],
          "name": "stderr"
        },
        {
          "output_type": "stream",
          "text": [
            "Validation Accuracy: 0.8267634854771784\n",
            "\n",
            "Starting epoch 25/30, LR = [0.01]\n"
          ],
          "name": "stdout"
        },
        {
          "output_type": "stream",
          "text": [
            "\n"
          ],
          "name": "stderr"
        },
        {
          "output_type": "stream",
          "text": [
            "Step 270, Loss 0.009104408323764801\n"
          ],
          "name": "stdout"
        },
        {
          "output_type": "stream",
          "text": [
            "100%|██████████| 11/11 [00:02<00:00,  3.98it/s]\n",
            "100%|██████████| 12/12 [00:02<00:00,  4.27it/s]"
          ],
          "name": "stderr"
        },
        {
          "output_type": "stream",
          "text": [
            "Validation Accuracy: 0.8295297372060858\n",
            "\n",
            "Starting epoch 26/30, LR = [0.01]\n"
          ],
          "name": "stdout"
        },
        {
          "output_type": "stream",
          "text": [
            "\n"
          ],
          "name": "stderr"
        },
        {
          "output_type": "stream",
          "text": [
            "Step 280, Loss 0.009954266250133514\n"
          ],
          "name": "stdout"
        },
        {
          "output_type": "stream",
          "text": [
            "100%|██████████| 11/11 [00:02<00:00,  3.94it/s]\n",
            "100%|██████████| 12/12 [00:02<00:00,  4.19it/s]"
          ],
          "name": "stderr"
        },
        {
          "output_type": "stream",
          "text": [
            "Validation Accuracy: 0.826417704011065\n",
            "\n",
            "Starting epoch 27/30, LR = [0.01]\n"
          ],
          "name": "stdout"
        },
        {
          "output_type": "stream",
          "text": [
            "\n"
          ],
          "name": "stderr"
        },
        {
          "output_type": "stream",
          "text": [
            "Step 290, Loss 0.006418071687221527\n"
          ],
          "name": "stdout"
        },
        {
          "output_type": "stream",
          "text": [
            "100%|██████████| 11/11 [00:02<00:00,  3.93it/s]\n",
            "100%|██████████| 12/12 [00:02<00:00,  4.24it/s]"
          ],
          "name": "stderr"
        },
        {
          "output_type": "stream",
          "text": [
            "Validation Accuracy: 0.8278008298755186\n",
            "\n",
            "Starting epoch 28/30, LR = [0.01]\n"
          ],
          "name": "stdout"
        },
        {
          "output_type": "stream",
          "text": [
            "\n"
          ],
          "name": "stderr"
        },
        {
          "output_type": "stream",
          "text": [
            "Step 300, Loss 0.007024712860584259\n"
          ],
          "name": "stdout"
        },
        {
          "output_type": "stream",
          "text": [
            "100%|██████████| 11/11 [00:02<00:00,  3.99it/s]\n",
            "100%|██████████| 12/12 [00:02<00:00,  4.23it/s]"
          ],
          "name": "stderr"
        },
        {
          "output_type": "stream",
          "text": [
            "Validation Accuracy: 0.828838174273859\n",
            "\n",
            "Starting epoch 29/30, LR = [0.01]\n"
          ],
          "name": "stdout"
        },
        {
          "output_type": "stream",
          "text": [
            "\n"
          ],
          "name": "stderr"
        },
        {
          "output_type": "stream",
          "text": [
            "Step 310, Loss 0.016538284718990326\n"
          ],
          "name": "stdout"
        },
        {
          "output_type": "stream",
          "text": [
            "100%|██████████| 11/11 [00:02<00:00,  4.00it/s]\n",
            "100%|██████████| 12/12 [00:02<00:00,  4.23it/s]"
          ],
          "name": "stderr"
        },
        {
          "output_type": "stream",
          "text": [
            "Validation Accuracy: 0.8291839557399724\n",
            "\n",
            "Starting epoch 30/30, LR = [0.01]\n"
          ],
          "name": "stdout"
        },
        {
          "output_type": "stream",
          "text": [
            "\n"
          ],
          "name": "stderr"
        },
        {
          "output_type": "stream",
          "text": [
            "Step 320, Loss 0.00983181968331337\n"
          ],
          "name": "stdout"
        },
        {
          "output_type": "stream",
          "text": [
            "100%|██████████| 11/11 [00:02<00:00,  3.97it/s]\n",
            "100%|██████████| 12/12 [00:02<00:00,  4.14it/s]\n",
            "  0%|          | 0/12 [00:00<?, ?it/s]"
          ],
          "name": "stderr"
        },
        {
          "output_type": "stream",
          "text": [
            "Validation Accuracy: 0.8316044260027663\n"
          ],
          "name": "stdout"
        },
        {
          "output_type": "stream",
          "text": [
            "100%|██████████| 12/12 [00:02<00:00,  4.19it/s]\n"
          ],
          "name": "stderr"
        },
        {
          "output_type": "stream",
          "text": [
            "FINAL: Test Accuracy: 0.8302799861735223\n"
          ],
          "name": "stdout"
        },
        {
          "output_type": "display_data",
          "data": {
            "image/png": "[encoded data removed]",
            "text/plain": [
              "<Figure size 432x288 with 1 Axes>"
            ]
          },
          "metadata": {
            "tags": []
          }
        },
        {
          "output_type": "display_data",
          "data": {
            "image/png": "[encoded data removed]",
            "text/plain": [
              "<Figure size 432x288 with 1 Axes>"
            ]
          },
          "metadata": {
            "tags": []
          }
        }
      ]
    },
    {
      "cell_type": "code",
      "metadata": {
        "id": "ZvanjrUUdEcF",
        "colab_type": "code",
        "colab": {}
      },
      "source": [
        "# 3D - Experiment by training only the fully connected layers (freeze other layers)\n",
        "#trainValidateTest(\"Transfer Learning\",\"FC\", pretrainednet, LR, NUM_EPOCHS, STEP_SIZE, img_train_dataloader, img_val_dataloader, img_test_dataloader, img_val_dataset, img_test_dataset)\n",
        "\n"
      ],
      "execution_count": 0,
      "outputs": []
    },
    {
      "cell_type": "code",
      "metadata": {
        "id": "vw7hA2Kae-0l",
        "colab_type": "code",
        "colab": {}
      },
      "source": [
        "# 3E - Experiment by training only the convolutional layers (freeze other layers)\n",
        "#trainValidateTest(\"Transfer Learning\",\"CONVOLUTIONAL\", pretrainednet, LR, NUM_EPOCHS, STEP_SIZE, img_train_dataloader, img_val_dataloader, img_test_dataloader, img_val_dataset, img_test_dataset)"
      ],
      "execution_count": 0,
      "outputs": []
    }
  ]
}